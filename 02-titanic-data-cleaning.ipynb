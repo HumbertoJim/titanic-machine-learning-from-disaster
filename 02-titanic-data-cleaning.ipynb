{
 "cells": [
  {
   "cell_type": "code",
   "execution_count": 1,
   "id": "f2b90232",
   "metadata": {
    "_cell_guid": "b1076dfc-b9ad-4769-8c92-a6c4dae69d19",
    "_uuid": "8f2839f25d086af736a60e9eeb907d3b93b6e0e5",
    "execution": {
     "iopub.execute_input": "2024-02-03T17:45:26.491816Z",
     "iopub.status.busy": "2024-02-03T17:45:26.490998Z",
     "iopub.status.idle": "2024-02-03T17:45:27.412019Z",
     "shell.execute_reply": "2024-02-03T17:45:27.411030Z"
    },
    "papermill": {
     "duration": 0.931143,
     "end_time": "2024-02-03T17:45:27.414744",
     "exception": false,
     "start_time": "2024-02-03T17:45:26.483601",
     "status": "completed"
    },
    "tags": []
   },
   "outputs": [],
   "source": [
    "import numpy as np \n",
    "import pandas as pd\n",
    "import re"
   ]
  },
  {
   "cell_type": "markdown",
   "id": "511aa74e",
   "metadata": {
    "papermill": {
     "duration": 0.004549,
     "end_time": "2024-02-03T17:45:27.424343",
     "exception": false,
     "start_time": "2024-02-03T17:45:27.419794",
     "status": "completed"
    },
    "tags": []
   },
   "source": [
    "# Data Exploration\n",
    "\n",
    "Variable Meanings\n",
    "* survival - Survival - 0 = No, 1 = Yes\n",
    "* pclass - Ticket class - 1 = 1st, 2 = 2nd, 3 = 3rd\n",
    "* sex - Sex\n",
    "* Age - Age in year\n",
    "* sibsp - # of siblings / spouses aboard the Titanic\n",
    "* parch - # of parents / children aboard the Titanic\n",
    "* ticket - Ticket number\n",
    "* fare - Passenger fare\n",
    "* cabin - Cabin number \n",
    "* embarked - Port of Embarkation - C = Cherbourg, Q = Queenstown, S = Southampton"
   ]
  },
  {
   "cell_type": "code",
   "execution_count": 2,
   "id": "f002a871",
   "metadata": {
    "execution": {
     "iopub.execute_input": "2024-02-03T17:45:27.435573Z",
     "iopub.status.busy": "2024-02-03T17:45:27.434705Z",
     "iopub.status.idle": "2024-02-03T17:45:27.492249Z",
     "shell.execute_reply": "2024-02-03T17:45:27.491146Z"
    },
    "papermill": {
     "duration": 0.065858,
     "end_time": "2024-02-03T17:45:27.494642",
     "exception": false,
     "start_time": "2024-02-03T17:45:27.428784",
     "status": "completed"
    },
    "tags": []
   },
   "outputs": [
    {
     "data": {
      "text/html": [
       "<div>\n",
       "<style scoped>\n",
       "    .dataframe tbody tr th:only-of-type {\n",
       "        vertical-align: middle;\n",
       "    }\n",
       "\n",
       "    .dataframe tbody tr th {\n",
       "        vertical-align: top;\n",
       "    }\n",
       "\n",
       "    .dataframe thead th {\n",
       "        text-align: right;\n",
       "    }\n",
       "</style>\n",
       "<table border=\"1\" class=\"dataframe\">\n",
       "  <thead>\n",
       "    <tr style=\"text-align: right;\">\n",
       "      <th></th>\n",
       "      <th>Survived</th>\n",
       "      <th>Pclass</th>\n",
       "      <th>Name</th>\n",
       "      <th>Sex</th>\n",
       "      <th>Age</th>\n",
       "      <th>SibSp</th>\n",
       "      <th>Parch</th>\n",
       "      <th>Ticket</th>\n",
       "      <th>Fare</th>\n",
       "      <th>Cabin</th>\n",
       "      <th>Embarked</th>\n",
       "    </tr>\n",
       "    <tr>\n",
       "      <th>PassengerId</th>\n",
       "      <th></th>\n",
       "      <th></th>\n",
       "      <th></th>\n",
       "      <th></th>\n",
       "      <th></th>\n",
       "      <th></th>\n",
       "      <th></th>\n",
       "      <th></th>\n",
       "      <th></th>\n",
       "      <th></th>\n",
       "      <th></th>\n",
       "    </tr>\n",
       "  </thead>\n",
       "  <tbody>\n",
       "    <tr>\n",
       "      <th>1</th>\n",
       "      <td>0</td>\n",
       "      <td>3</td>\n",
       "      <td>Braund, Mr. Owen Harris</td>\n",
       "      <td>male</td>\n",
       "      <td>22.0</td>\n",
       "      <td>1</td>\n",
       "      <td>0</td>\n",
       "      <td>A/5 21171</td>\n",
       "      <td>7.2500</td>\n",
       "      <td>NaN</td>\n",
       "      <td>S</td>\n",
       "    </tr>\n",
       "    <tr>\n",
       "      <th>2</th>\n",
       "      <td>1</td>\n",
       "      <td>1</td>\n",
       "      <td>Cumings, Mrs. John Bradley (Florence Briggs Th...</td>\n",
       "      <td>female</td>\n",
       "      <td>38.0</td>\n",
       "      <td>1</td>\n",
       "      <td>0</td>\n",
       "      <td>PC 17599</td>\n",
       "      <td>71.2833</td>\n",
       "      <td>C85</td>\n",
       "      <td>C</td>\n",
       "    </tr>\n",
       "    <tr>\n",
       "      <th>3</th>\n",
       "      <td>1</td>\n",
       "      <td>3</td>\n",
       "      <td>Heikkinen, Miss. Laina</td>\n",
       "      <td>female</td>\n",
       "      <td>26.0</td>\n",
       "      <td>0</td>\n",
       "      <td>0</td>\n",
       "      <td>STON/O2. 3101282</td>\n",
       "      <td>7.9250</td>\n",
       "      <td>NaN</td>\n",
       "      <td>S</td>\n",
       "    </tr>\n",
       "    <tr>\n",
       "      <th>4</th>\n",
       "      <td>1</td>\n",
       "      <td>1</td>\n",
       "      <td>Futrelle, Mrs. Jacques Heath (Lily May Peel)</td>\n",
       "      <td>female</td>\n",
       "      <td>35.0</td>\n",
       "      <td>1</td>\n",
       "      <td>0</td>\n",
       "      <td>113803</td>\n",
       "      <td>53.1000</td>\n",
       "      <td>C123</td>\n",
       "      <td>S</td>\n",
       "    </tr>\n",
       "    <tr>\n",
       "      <th>5</th>\n",
       "      <td>0</td>\n",
       "      <td>3</td>\n",
       "      <td>Allen, Mr. William Henry</td>\n",
       "      <td>male</td>\n",
       "      <td>35.0</td>\n",
       "      <td>0</td>\n",
       "      <td>0</td>\n",
       "      <td>373450</td>\n",
       "      <td>8.0500</td>\n",
       "      <td>NaN</td>\n",
       "      <td>S</td>\n",
       "    </tr>\n",
       "  </tbody>\n",
       "</table>\n",
       "</div>"
      ],
      "text/plain": [
       "             Survived  Pclass  \\\n",
       "PassengerId                     \n",
       "1                   0       3   \n",
       "2                   1       1   \n",
       "3                   1       3   \n",
       "4                   1       1   \n",
       "5                   0       3   \n",
       "\n",
       "                                                          Name     Sex   Age  \\\n",
       "PassengerId                                                                    \n",
       "1                                      Braund, Mr. Owen Harris    male  22.0   \n",
       "2            Cumings, Mrs. John Bradley (Florence Briggs Th...  female  38.0   \n",
       "3                                       Heikkinen, Miss. Laina  female  26.0   \n",
       "4                 Futrelle, Mrs. Jacques Heath (Lily May Peel)  female  35.0   \n",
       "5                                     Allen, Mr. William Henry    male  35.0   \n",
       "\n",
       "             SibSp  Parch            Ticket     Fare Cabin Embarked  \n",
       "PassengerId                                                          \n",
       "1                1      0         A/5 21171   7.2500   NaN        S  \n",
       "2                1      0          PC 17599  71.2833   C85        C  \n",
       "3                0      0  STON/O2. 3101282   7.9250   NaN        S  \n",
       "4                1      0            113803  53.1000  C123        S  \n",
       "5                0      0            373450   8.0500   NaN        S  "
      ]
     },
     "execution_count": 2,
     "metadata": {},
     "output_type": "execute_result"
    }
   ],
   "source": [
    "dataset = pd.read_csv('/kaggle/input/titanic/train.csv')\n",
    "dataset = dataset.set_index(\"PassengerId\")\n",
    "dataset.head()"
   ]
  },
  {
   "cell_type": "code",
   "execution_count": 3,
   "id": "516bf82b",
   "metadata": {
    "execution": {
     "iopub.execute_input": "2024-02-03T17:45:27.506364Z",
     "iopub.status.busy": "2024-02-03T17:45:27.505739Z",
     "iopub.status.idle": "2024-02-03T17:45:27.533276Z",
     "shell.execute_reply": "2024-02-03T17:45:27.532195Z"
    },
    "papermill": {
     "duration": 0.036878,
     "end_time": "2024-02-03T17:45:27.536282",
     "exception": false,
     "start_time": "2024-02-03T17:45:27.499404",
     "status": "completed"
    },
    "tags": []
   },
   "outputs": [
    {
     "name": "stdout",
     "output_type": "stream",
     "text": [
      "<class 'pandas.core.frame.DataFrame'>\n",
      "Index: 891 entries, 1 to 891\n",
      "Data columns (total 11 columns):\n",
      " #   Column    Non-Null Count  Dtype  \n",
      "---  ------    --------------  -----  \n",
      " 0   Survived  891 non-null    int64  \n",
      " 1   Pclass    891 non-null    int64  \n",
      " 2   Name      891 non-null    object \n",
      " 3   Sex       891 non-null    object \n",
      " 4   Age       714 non-null    float64\n",
      " 5   SibSp     891 non-null    int64  \n",
      " 6   Parch     891 non-null    int64  \n",
      " 7   Ticket    891 non-null    object \n",
      " 8   Fare      891 non-null    float64\n",
      " 9   Cabin     204 non-null    object \n",
      " 10  Embarked  889 non-null    object \n",
      "dtypes: float64(2), int64(4), object(5)\n",
      "memory usage: 83.5+ KB\n"
     ]
    }
   ],
   "source": [
    "dataset.info()"
   ]
  },
  {
   "cell_type": "markdown",
   "id": "0a63896b",
   "metadata": {
    "papermill": {
     "duration": 0.004648,
     "end_time": "2024-02-03T17:45:27.545911",
     "exception": false,
     "start_time": "2024-02-03T17:45:27.541263",
     "status": "completed"
    },
    "tags": []
   },
   "source": [
    "Data to clean:\n",
    "\n",
    "* Normalize names\n",
    "    * Delete AKA\n",
    "    * Remove Miss, Mr, etc.\n",
    "* Normalize Ticket\n",
    "* Use Mean value for NAN Ages?\n",
    "* Delete Cabin since has the less Non-Null values"
   ]
  },
  {
   "cell_type": "code",
   "execution_count": 4,
   "id": "06c1e30b",
   "metadata": {
    "execution": {
     "iopub.execute_input": "2024-02-03T17:45:27.557337Z",
     "iopub.status.busy": "2024-02-03T17:45:27.556951Z",
     "iopub.status.idle": "2024-02-03T17:45:27.566285Z",
     "shell.execute_reply": "2024-02-03T17:45:27.565527Z"
    },
    "papermill": {
     "duration": 0.017849,
     "end_time": "2024-02-03T17:45:27.568485",
     "exception": false,
     "start_time": "2024-02-03T17:45:27.550636",
     "status": "completed"
    },
    "tags": []
   },
   "outputs": [],
   "source": [
    "df = dataset.drop([\"Cabin\"],axis=1)\n",
    "df[\"Age\"] = df[\"Age\"].fillna(df['Age'].mean())"
   ]
  },
  {
   "cell_type": "markdown",
   "id": "9d759dfc",
   "metadata": {
    "papermill": {
     "duration": 0.004621,
     "end_time": "2024-02-03T17:45:27.578107",
     "exception": false,
     "start_time": "2024-02-03T17:45:27.573486",
     "status": "completed"
    },
    "tags": []
   },
   "source": [
    "Get Unique Mr, Ms, etc for deletion"
   ]
  },
  {
   "cell_type": "code",
   "execution_count": 5,
   "id": "51e8ff23",
   "metadata": {
    "execution": {
     "iopub.execute_input": "2024-02-03T17:45:27.590487Z",
     "iopub.status.busy": "2024-02-03T17:45:27.589149Z",
     "iopub.status.idle": "2024-02-03T17:45:27.598957Z",
     "shell.execute_reply": "2024-02-03T17:45:27.597954Z"
    },
    "papermill": {
     "duration": 0.018486,
     "end_time": "2024-02-03T17:45:27.601347",
     "exception": false,
     "start_time": "2024-02-03T17:45:27.582861",
     "status": "completed"
    },
    "tags": []
   },
   "outputs": [],
   "source": [
    "a = []\n",
    "for i in df[\"Name\"]:\n",
    "    for data in re.findall(r'\\b\\w+\\.', i):\n",
    "        a.append(data)\n",
    "drop = set(a)"
   ]
  },
  {
   "cell_type": "code",
   "execution_count": 6,
   "id": "e778246f",
   "metadata": {
    "execution": {
     "iopub.execute_input": "2024-02-03T17:45:27.612903Z",
     "iopub.status.busy": "2024-02-03T17:45:27.612507Z",
     "iopub.status.idle": "2024-02-03T17:45:27.634941Z",
     "shell.execute_reply": "2024-02-03T17:45:27.633856Z"
    },
    "papermill": {
     "duration": 0.031102,
     "end_time": "2024-02-03T17:45:27.637372",
     "exception": false,
     "start_time": "2024-02-03T17:45:27.606270",
     "status": "completed"
    },
    "tags": []
   },
   "outputs": [
    {
     "data": {
      "text/plain": [
       "PassengerId\n",
       "1             Braund Owen Harris\n",
       "2          Cumings John Bradley \n",
       "3                Heikkinen Laina\n",
       "4        Futrelle Jacques Heath \n",
       "5            Allen William Henry\n",
       "                 ...            \n",
       "887              Montvila Juozas\n",
       "888        Graham Margaret Edith\n",
       "889    Johnston Catherine Helen \n",
       "890             Behr Karl Howell\n",
       "891               Dooley Patrick\n",
       "Name: Name, Length: 891, dtype: object"
      ]
     },
     "execution_count": 6,
     "metadata": {},
     "output_type": "execute_result"
    }
   ],
   "source": [
    "import re\n",
    "\n",
    "def normalizeName(texto):\n",
    "\n",
    "    def deleteParentesis(texto):\n",
    "        return re.sub(r'\\([^)]*\\)', '', texto)\n",
    "\n",
    "    def deleteComillas(texto):\n",
    "        return re.sub(r'\\\"[^\\\"]*\\\"', '', texto)\n",
    "\n",
    "    def deleteComma(texto):\n",
    "        texto = texto.replace(',','')\n",
    "        return texto\n",
    "\n",
    "    def deleteMrMsEtc(texto):\n",
    "        texto_separado = texto.split(r' ')\n",
    "        return \" \".join(txt for txt in texto_separado if not txt in drop )\n",
    "    \n",
    "    texto = deleteParentesis(texto)\n",
    "    texto = deleteComillas(texto)\n",
    "    texto = deleteComma(texto)\n",
    "    texto = deleteMrMsEtc(texto)\n",
    "    return texto\n",
    "    \n",
    "\n",
    "df[\"Name\"] = df[\"Name\"].apply(normalizeName)\n",
    "df[\"Name\"]"
   ]
  },
  {
   "cell_type": "code",
   "execution_count": 7,
   "id": "393d4f7e",
   "metadata": {
    "execution": {
     "iopub.execute_input": "2024-02-03T17:45:27.649760Z",
     "iopub.status.busy": "2024-02-03T17:45:27.649343Z",
     "iopub.status.idle": "2024-02-03T17:45:27.688979Z",
     "shell.execute_reply": "2024-02-03T17:45:27.687824Z"
    },
    "papermill": {
     "duration": 0.049172,
     "end_time": "2024-02-03T17:45:27.691729",
     "exception": false,
     "start_time": "2024-02-03T17:45:27.642557",
     "status": "completed"
    },
    "tags": []
   },
   "outputs": [
    {
     "data": {
      "text/plain": [
       "(             Survived  Pclass                       Name  Sex   Age  SibSp  \\\n",
       " PassengerId                                                                  \n",
       " 1                   0       3         Braund Owen Harris    0  22.0      1   \n",
       " 2                   1       1      Cumings John Bradley     1  38.0      1   \n",
       " 3                   1       3            Heikkinen Laina    1  26.0      0   \n",
       " 4                   1       1    Futrelle Jacques Heath     1  35.0      1   \n",
       " 5                   0       3        Allen William Henry    0  35.0      0   \n",
       " ...               ...     ...                        ...  ...   ...    ...   \n",
       " 887                 0       2            Montvila Juozas    0  27.0      0   \n",
       " 888                 1       1      Graham Margaret Edith    1  19.0      0   \n",
       " 889                 0       3  Johnston Catherine Helen     1  28.0      1   \n",
       " 890                 1       1           Behr Karl Howell    0  26.0      0   \n",
       " 891                 0       3             Dooley Patrick    0  32.0      0   \n",
       " \n",
       "              Parch            Ticket     Fare Embarked  FamilySize  IsAlone  \n",
       " PassengerId                                                                  \n",
       " 1                0         A/5 21171   7.2500        S           1        0  \n",
       " 2                0          PC 17599  71.2833        C           1        0  \n",
       " 3                0  STON/O2. 3101282   7.9250        S           0        1  \n",
       " 4                0            113803  53.1000        S           1        0  \n",
       " 5                0            373450   8.0500        S           0        1  \n",
       " ...            ...               ...      ...      ...         ...      ...  \n",
       " 887              0            211536  13.0000        S           0        1  \n",
       " 888              0            112053  30.0000        S           0        1  \n",
       " 889              2        W./C. 6607  23.4500        S           3        0  \n",
       " 890              0            111369  30.0000        C           0        1  \n",
       " 891              0            370376   7.7500        Q           0        1  \n",
       " \n",
       " [891 rows x 12 columns],\n",
       " {'mean_age': 29.69911764705882})"
      ]
     },
     "execution_count": 7,
     "metadata": {},
     "output_type": "execute_result"
    }
   ],
   "source": [
    "def normalizeName(texto):\n",
    "\n",
    "    def deleteParentesis(texto):\n",
    "        return re.sub(r'\\([^)]*\\)', '', texto)\n",
    "\n",
    "    def deleteComillas(texto):\n",
    "        return re.sub(r'\\\"[^\\\"]*\\\"', '', texto)\n",
    "\n",
    "    def deleteComma(texto):\n",
    "        texto = texto.replace(',','')\n",
    "        return texto\n",
    "\n",
    "    def deleteMrMsEtc(texto):\n",
    "        texto_separado = texto.split(r' ')\n",
    "        return \" \".join(txt for txt in texto_separado if not txt in drop )\n",
    "    \n",
    "    texto = deleteParentesis(texto)\n",
    "    texto = deleteComillas(texto)\n",
    "    texto = deleteComma(texto)\n",
    "    texto = deleteMrMsEtc(texto)\n",
    "    return texto\n",
    "\n",
    "def TitanicDataClean(df=None):\n",
    "    \n",
    "    #Dictionary containing relevant data of dataframe.\n",
    "    extradata = {}\n",
    "    if not isinstance(df,pd.DataFrame):\n",
    "        raise ValueError('Must provide a Pandas dataframe')\n",
    "        \n",
    "    extradata['mean_age'] = df['Age'].mean()\n",
    "    df = df.drop([\"Cabin\"],axis=1)\n",
    "    df[\"Age\"] = df[\"Age\"].fillna(df['Age'].median())\n",
    "    \n",
    "    \n",
    "    df['FamilySize'] = df['SibSp'] + df['Parch']\n",
    "    df['IsAlone'] = (df['FamilySize'] == 0).astype(int)\n",
    "    # Codificar la variable categórica 'Sex' a valores numéricos\n",
    "    df['Sex'] = df['Sex'].map({'male': 0, 'female': 1})\n",
    "    df['Embarked'].fillna(df['Embarked'].mode()[0], inplace=True)\n",
    "    \n",
    "    df[\"Name\"] = df[\"Name\"].apply(normalizeName)\n",
    "    return df,extradata\n",
    "\n",
    "TitanicDataClean(dataset)"
   ]
  },
  {
   "cell_type": "code",
   "execution_count": null,
   "id": "e88bc19e",
   "metadata": {
    "execution": {
     "iopub.execute_input": "2024-01-30T20:57:57.278828Z",
     "iopub.status.busy": "2024-01-30T20:57:57.277697Z",
     "iopub.status.idle": "2024-01-30T20:57:57.288998Z",
     "shell.execute_reply": "2024-01-30T20:57:57.287270Z",
     "shell.execute_reply.started": "2024-01-30T20:57:57.278786Z"
    },
    "papermill": {
     "duration": 0.00533,
     "end_time": "2024-02-03T17:45:27.702561",
     "exception": false,
     "start_time": "2024-02-03T17:45:27.697231",
     "status": "completed"
    },
    "tags": []
   },
   "outputs": [],
   "source": []
  }
 ],
 "metadata": {
  "kaggle": {
   "accelerator": "none",
   "dataSources": [
    {
     "databundleVersionId": 26502,
     "sourceId": 3136,
     "sourceType": "competition"
    }
   ],
   "dockerImageVersionId": 30635,
   "isGpuEnabled": false,
   "isInternetEnabled": true,
   "language": "python",
   "sourceType": "notebook"
  },
  "kernelspec": {
   "display_name": "Python 3",
   "language": "python",
   "name": "python3"
  },
  "language_info": {
   "codemirror_mode": {
    "name": "ipython",
    "version": 3
   },
   "file_extension": ".py",
   "mimetype": "text/x-python",
   "name": "python",
   "nbconvert_exporter": "python",
   "pygments_lexer": "ipython3",
   "version": "3.10.12"
  },
  "papermill": {
   "default_parameters": {},
   "duration": 5.933359,
   "end_time": "2024-02-03T17:45:28.229317",
   "environment_variables": {},
   "exception": null,
   "input_path": "__notebook__.ipynb",
   "output_path": "__notebook__.ipynb",
   "parameters": {},
   "start_time": "2024-02-03T17:45:22.295958",
   "version": "2.4.0"
  }
 },
 "nbformat": 4,
 "nbformat_minor": 5
}
