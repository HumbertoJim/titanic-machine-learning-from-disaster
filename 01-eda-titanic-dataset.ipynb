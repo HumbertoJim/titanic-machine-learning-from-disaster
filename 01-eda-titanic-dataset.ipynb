{
 "cells": [
  {
   "cell_type": "code",
   "execution_count": 1,
   "id": "b77c858f",
   "metadata": {
    "_cell_guid": "b1076dfc-b9ad-4769-8c92-a6c4dae69d19",
    "_uuid": "8f2839f25d086af736a60e9eeb907d3b93b6e0e5",
    "execution": {
     "iopub.execute_input": "2024-02-03T02:59:12.875245Z",
     "iopub.status.busy": "2024-02-03T02:59:12.874501Z",
     "iopub.status.idle": "2024-02-03T02:59:14.944063Z",
     "shell.execute_reply": "2024-02-03T02:59:14.943030Z"
    },
    "papermill": {
     "duration": 2.095829,
     "end_time": "2024-02-03T02:59:14.946832",
     "exception": false,
     "start_time": "2024-02-03T02:59:12.851003",
     "status": "completed"
    },
    "tags": []
   },
   "outputs": [],
   "source": [
    "import pandas as pd\n",
    "import matplotlib.pyplot as plt\n",
    "import seaborn as sns\n",
    "\n",
    "# Seaborn theme for the graphics.\n",
    "sns.set_theme(style=\"ticks\", palette=\"colorblind\")"
   ]
  },
  {
   "cell_type": "markdown",
   "id": "dd348fb9",
   "metadata": {
    "papermill": {
     "duration": 0.021258,
     "end_time": "2024-02-03T02:59:14.989260",
     "exception": false,
     "start_time": "2024-02-03T02:59:14.968002",
     "status": "completed"
    },
    "tags": []
   },
   "source": [
    "# Load both train an test datasets\n",
    "\n",
    "We are going to concatenate both datasets as one data frame to analyze all data in only one table. We are going to add a new column called `data_type` with the values `train` or `test` to identify the original source of the data. There is also a column called `PassengerId` that we can set as the index of every data frame."
   ]
  },
  {
   "cell_type": "code",
   "execution_count": 2,
   "id": "b66bf40f",
   "metadata": {
    "execution": {
     "iopub.execute_input": "2024-02-03T02:59:15.033695Z",
     "iopub.status.busy": "2024-02-03T02:59:15.033172Z",
     "iopub.status.idle": "2024-02-03T02:59:15.095152Z",
     "shell.execute_reply": "2024-02-03T02:59:15.093969Z"
    },
    "papermill": {
     "duration": 0.08742,
     "end_time": "2024-02-03T02:59:15.097766",
     "exception": false,
     "start_time": "2024-02-03T02:59:15.010346",
     "status": "completed"
    },
    "tags": []
   },
   "outputs": [
    {
     "data": {
      "text/html": [
       "<div>\n",
       "<style scoped>\n",
       "    .dataframe tbody tr th:only-of-type {\n",
       "        vertical-align: middle;\n",
       "    }\n",
       "\n",
       "    .dataframe tbody tr th {\n",
       "        vertical-align: top;\n",
       "    }\n",
       "\n",
       "    .dataframe thead th {\n",
       "        text-align: right;\n",
       "    }\n",
       "</style>\n",
       "<table border=\"1\" class=\"dataframe\">\n",
       "  <thead>\n",
       "    <tr style=\"text-align: right;\">\n",
       "      <th></th>\n",
       "      <th>Survived</th>\n",
       "      <th>Pclass</th>\n",
       "      <th>Name</th>\n",
       "      <th>Sex</th>\n",
       "      <th>Age</th>\n",
       "      <th>SibSp</th>\n",
       "      <th>Parch</th>\n",
       "      <th>Ticket</th>\n",
       "      <th>Fare</th>\n",
       "      <th>Cabin</th>\n",
       "      <th>Embarked</th>\n",
       "      <th>data_type</th>\n",
       "    </tr>\n",
       "    <tr>\n",
       "      <th>PassengerId</th>\n",
       "      <th></th>\n",
       "      <th></th>\n",
       "      <th></th>\n",
       "      <th></th>\n",
       "      <th></th>\n",
       "      <th></th>\n",
       "      <th></th>\n",
       "      <th></th>\n",
       "      <th></th>\n",
       "      <th></th>\n",
       "      <th></th>\n",
       "      <th></th>\n",
       "    </tr>\n",
       "  </thead>\n",
       "  <tbody>\n",
       "    <tr>\n",
       "      <th>1</th>\n",
       "      <td>0</td>\n",
       "      <td>3</td>\n",
       "      <td>Braund, Mr. Owen Harris</td>\n",
       "      <td>male</td>\n",
       "      <td>22.0</td>\n",
       "      <td>1</td>\n",
       "      <td>0</td>\n",
       "      <td>A/5 21171</td>\n",
       "      <td>7.2500</td>\n",
       "      <td>NaN</td>\n",
       "      <td>S</td>\n",
       "      <td>train</td>\n",
       "    </tr>\n",
       "    <tr>\n",
       "      <th>2</th>\n",
       "      <td>1</td>\n",
       "      <td>1</td>\n",
       "      <td>Cumings, Mrs. John Bradley (Florence Briggs Th...</td>\n",
       "      <td>female</td>\n",
       "      <td>38.0</td>\n",
       "      <td>1</td>\n",
       "      <td>0</td>\n",
       "      <td>PC 17599</td>\n",
       "      <td>71.2833</td>\n",
       "      <td>C85</td>\n",
       "      <td>C</td>\n",
       "      <td>train</td>\n",
       "    </tr>\n",
       "    <tr>\n",
       "      <th>3</th>\n",
       "      <td>1</td>\n",
       "      <td>3</td>\n",
       "      <td>Heikkinen, Miss. Laina</td>\n",
       "      <td>female</td>\n",
       "      <td>26.0</td>\n",
       "      <td>0</td>\n",
       "      <td>0</td>\n",
       "      <td>STON/O2. 3101282</td>\n",
       "      <td>7.9250</td>\n",
       "      <td>NaN</td>\n",
       "      <td>S</td>\n",
       "      <td>train</td>\n",
       "    </tr>\n",
       "    <tr>\n",
       "      <th>4</th>\n",
       "      <td>1</td>\n",
       "      <td>1</td>\n",
       "      <td>Futrelle, Mrs. Jacques Heath (Lily May Peel)</td>\n",
       "      <td>female</td>\n",
       "      <td>35.0</td>\n",
       "      <td>1</td>\n",
       "      <td>0</td>\n",
       "      <td>113803</td>\n",
       "      <td>53.1000</td>\n",
       "      <td>C123</td>\n",
       "      <td>S</td>\n",
       "      <td>train</td>\n",
       "    </tr>\n",
       "    <tr>\n",
       "      <th>5</th>\n",
       "      <td>0</td>\n",
       "      <td>3</td>\n",
       "      <td>Allen, Mr. William Henry</td>\n",
       "      <td>male</td>\n",
       "      <td>35.0</td>\n",
       "      <td>0</td>\n",
       "      <td>0</td>\n",
       "      <td>373450</td>\n",
       "      <td>8.0500</td>\n",
       "      <td>NaN</td>\n",
       "      <td>S</td>\n",
       "      <td>train</td>\n",
       "    </tr>\n",
       "    <tr>\n",
       "      <th>...</th>\n",
       "      <td>...</td>\n",
       "      <td>...</td>\n",
       "      <td>...</td>\n",
       "      <td>...</td>\n",
       "      <td>...</td>\n",
       "      <td>...</td>\n",
       "      <td>...</td>\n",
       "      <td>...</td>\n",
       "      <td>...</td>\n",
       "      <td>...</td>\n",
       "      <td>...</td>\n",
       "      <td>...</td>\n",
       "    </tr>\n",
       "    <tr>\n",
       "      <th>887</th>\n",
       "      <td>0</td>\n",
       "      <td>2</td>\n",
       "      <td>Montvila, Rev. Juozas</td>\n",
       "      <td>male</td>\n",
       "      <td>27.0</td>\n",
       "      <td>0</td>\n",
       "      <td>0</td>\n",
       "      <td>211536</td>\n",
       "      <td>13.0000</td>\n",
       "      <td>NaN</td>\n",
       "      <td>S</td>\n",
       "      <td>train</td>\n",
       "    </tr>\n",
       "    <tr>\n",
       "      <th>888</th>\n",
       "      <td>1</td>\n",
       "      <td>1</td>\n",
       "      <td>Graham, Miss. Margaret Edith</td>\n",
       "      <td>female</td>\n",
       "      <td>19.0</td>\n",
       "      <td>0</td>\n",
       "      <td>0</td>\n",
       "      <td>112053</td>\n",
       "      <td>30.0000</td>\n",
       "      <td>B42</td>\n",
       "      <td>S</td>\n",
       "      <td>train</td>\n",
       "    </tr>\n",
       "    <tr>\n",
       "      <th>889</th>\n",
       "      <td>0</td>\n",
       "      <td>3</td>\n",
       "      <td>Johnston, Miss. Catherine Helen \"Carrie\"</td>\n",
       "      <td>female</td>\n",
       "      <td>NaN</td>\n",
       "      <td>1</td>\n",
       "      <td>2</td>\n",
       "      <td>W./C. 6607</td>\n",
       "      <td>23.4500</td>\n",
       "      <td>NaN</td>\n",
       "      <td>S</td>\n",
       "      <td>train</td>\n",
       "    </tr>\n",
       "    <tr>\n",
       "      <th>890</th>\n",
       "      <td>1</td>\n",
       "      <td>1</td>\n",
       "      <td>Behr, Mr. Karl Howell</td>\n",
       "      <td>male</td>\n",
       "      <td>26.0</td>\n",
       "      <td>0</td>\n",
       "      <td>0</td>\n",
       "      <td>111369</td>\n",
       "      <td>30.0000</td>\n",
       "      <td>C148</td>\n",
       "      <td>C</td>\n",
       "      <td>train</td>\n",
       "    </tr>\n",
       "    <tr>\n",
       "      <th>891</th>\n",
       "      <td>0</td>\n",
       "      <td>3</td>\n",
       "      <td>Dooley, Mr. Patrick</td>\n",
       "      <td>male</td>\n",
       "      <td>32.0</td>\n",
       "      <td>0</td>\n",
       "      <td>0</td>\n",
       "      <td>370376</td>\n",
       "      <td>7.7500</td>\n",
       "      <td>NaN</td>\n",
       "      <td>Q</td>\n",
       "      <td>train</td>\n",
       "    </tr>\n",
       "  </tbody>\n",
       "</table>\n",
       "<p>891 rows × 12 columns</p>\n",
       "</div>"
      ],
      "text/plain": [
       "             Survived  Pclass  \\\n",
       "PassengerId                     \n",
       "1                   0       3   \n",
       "2                   1       1   \n",
       "3                   1       3   \n",
       "4                   1       1   \n",
       "5                   0       3   \n",
       "...               ...     ...   \n",
       "887                 0       2   \n",
       "888                 1       1   \n",
       "889                 0       3   \n",
       "890                 1       1   \n",
       "891                 0       3   \n",
       "\n",
       "                                                          Name     Sex   Age  \\\n",
       "PassengerId                                                                    \n",
       "1                                      Braund, Mr. Owen Harris    male  22.0   \n",
       "2            Cumings, Mrs. John Bradley (Florence Briggs Th...  female  38.0   \n",
       "3                                       Heikkinen, Miss. Laina  female  26.0   \n",
       "4                 Futrelle, Mrs. Jacques Heath (Lily May Peel)  female  35.0   \n",
       "5                                     Allen, Mr. William Henry    male  35.0   \n",
       "...                                                        ...     ...   ...   \n",
       "887                                      Montvila, Rev. Juozas    male  27.0   \n",
       "888                               Graham, Miss. Margaret Edith  female  19.0   \n",
       "889                   Johnston, Miss. Catherine Helen \"Carrie\"  female   NaN   \n",
       "890                                      Behr, Mr. Karl Howell    male  26.0   \n",
       "891                                        Dooley, Mr. Patrick    male  32.0   \n",
       "\n",
       "             SibSp  Parch            Ticket     Fare Cabin Embarked data_type  \n",
       "PassengerId                                                                    \n",
       "1                1      0         A/5 21171   7.2500   NaN        S     train  \n",
       "2                1      0          PC 17599  71.2833   C85        C     train  \n",
       "3                0      0  STON/O2. 3101282   7.9250   NaN        S     train  \n",
       "4                1      0            113803  53.1000  C123        S     train  \n",
       "5                0      0            373450   8.0500   NaN        S     train  \n",
       "...            ...    ...               ...      ...   ...      ...       ...  \n",
       "887              0      0            211536  13.0000   NaN        S     train  \n",
       "888              0      0            112053  30.0000   B42        S     train  \n",
       "889              1      2        W./C. 6607  23.4500   NaN        S     train  \n",
       "890              0      0            111369  30.0000  C148        C     train  \n",
       "891              0      0            370376   7.7500   NaN        Q     train  \n",
       "\n",
       "[891 rows x 12 columns]"
      ]
     },
     "execution_count": 2,
     "metadata": {},
     "output_type": "execute_result"
    }
   ],
   "source": [
    "train = pd.read_csv(\"/kaggle/input/titanic/train.csv\") \\\n",
    "    .set_index(\"PassengerId\") \\\n",
    "    .assign(data_type=\"train\")\n",
    "train"
   ]
  },
  {
   "cell_type": "code",
   "execution_count": 3,
   "id": "5d9e8244",
   "metadata": {
    "execution": {
     "iopub.execute_input": "2024-02-03T02:59:15.144850Z",
     "iopub.status.busy": "2024-02-03T02:59:15.144458Z",
     "iopub.status.idle": "2024-02-03T02:59:15.177201Z",
     "shell.execute_reply": "2024-02-03T02:59:15.176082Z"
    },
    "papermill": {
     "duration": 0.059589,
     "end_time": "2024-02-03T02:59:15.179820",
     "exception": false,
     "start_time": "2024-02-03T02:59:15.120231",
     "status": "completed"
    },
    "tags": []
   },
   "outputs": [
    {
     "data": {
      "text/html": [
       "<div>\n",
       "<style scoped>\n",
       "    .dataframe tbody tr th:only-of-type {\n",
       "        vertical-align: middle;\n",
       "    }\n",
       "\n",
       "    .dataframe tbody tr th {\n",
       "        vertical-align: top;\n",
       "    }\n",
       "\n",
       "    .dataframe thead th {\n",
       "        text-align: right;\n",
       "    }\n",
       "</style>\n",
       "<table border=\"1\" class=\"dataframe\">\n",
       "  <thead>\n",
       "    <tr style=\"text-align: right;\">\n",
       "      <th></th>\n",
       "      <th>Pclass</th>\n",
       "      <th>Name</th>\n",
       "      <th>Sex</th>\n",
       "      <th>Age</th>\n",
       "      <th>SibSp</th>\n",
       "      <th>Parch</th>\n",
       "      <th>Ticket</th>\n",
       "      <th>Fare</th>\n",
       "      <th>Cabin</th>\n",
       "      <th>Embarked</th>\n",
       "      <th>data_type</th>\n",
       "    </tr>\n",
       "    <tr>\n",
       "      <th>PassengerId</th>\n",
       "      <th></th>\n",
       "      <th></th>\n",
       "      <th></th>\n",
       "      <th></th>\n",
       "      <th></th>\n",
       "      <th></th>\n",
       "      <th></th>\n",
       "      <th></th>\n",
       "      <th></th>\n",
       "      <th></th>\n",
       "      <th></th>\n",
       "    </tr>\n",
       "  </thead>\n",
       "  <tbody>\n",
       "    <tr>\n",
       "      <th>892</th>\n",
       "      <td>3</td>\n",
       "      <td>Kelly, Mr. James</td>\n",
       "      <td>male</td>\n",
       "      <td>34.5</td>\n",
       "      <td>0</td>\n",
       "      <td>0</td>\n",
       "      <td>330911</td>\n",
       "      <td>7.8292</td>\n",
       "      <td>NaN</td>\n",
       "      <td>Q</td>\n",
       "      <td>test</td>\n",
       "    </tr>\n",
       "    <tr>\n",
       "      <th>893</th>\n",
       "      <td>3</td>\n",
       "      <td>Wilkes, Mrs. James (Ellen Needs)</td>\n",
       "      <td>female</td>\n",
       "      <td>47.0</td>\n",
       "      <td>1</td>\n",
       "      <td>0</td>\n",
       "      <td>363272</td>\n",
       "      <td>7.0000</td>\n",
       "      <td>NaN</td>\n",
       "      <td>S</td>\n",
       "      <td>test</td>\n",
       "    </tr>\n",
       "    <tr>\n",
       "      <th>894</th>\n",
       "      <td>2</td>\n",
       "      <td>Myles, Mr. Thomas Francis</td>\n",
       "      <td>male</td>\n",
       "      <td>62.0</td>\n",
       "      <td>0</td>\n",
       "      <td>0</td>\n",
       "      <td>240276</td>\n",
       "      <td>9.6875</td>\n",
       "      <td>NaN</td>\n",
       "      <td>Q</td>\n",
       "      <td>test</td>\n",
       "    </tr>\n",
       "    <tr>\n",
       "      <th>895</th>\n",
       "      <td>3</td>\n",
       "      <td>Wirz, Mr. Albert</td>\n",
       "      <td>male</td>\n",
       "      <td>27.0</td>\n",
       "      <td>0</td>\n",
       "      <td>0</td>\n",
       "      <td>315154</td>\n",
       "      <td>8.6625</td>\n",
       "      <td>NaN</td>\n",
       "      <td>S</td>\n",
       "      <td>test</td>\n",
       "    </tr>\n",
       "    <tr>\n",
       "      <th>896</th>\n",
       "      <td>3</td>\n",
       "      <td>Hirvonen, Mrs. Alexander (Helga E Lindqvist)</td>\n",
       "      <td>female</td>\n",
       "      <td>22.0</td>\n",
       "      <td>1</td>\n",
       "      <td>1</td>\n",
       "      <td>3101298</td>\n",
       "      <td>12.2875</td>\n",
       "      <td>NaN</td>\n",
       "      <td>S</td>\n",
       "      <td>test</td>\n",
       "    </tr>\n",
       "    <tr>\n",
       "      <th>...</th>\n",
       "      <td>...</td>\n",
       "      <td>...</td>\n",
       "      <td>...</td>\n",
       "      <td>...</td>\n",
       "      <td>...</td>\n",
       "      <td>...</td>\n",
       "      <td>...</td>\n",
       "      <td>...</td>\n",
       "      <td>...</td>\n",
       "      <td>...</td>\n",
       "      <td>...</td>\n",
       "    </tr>\n",
       "    <tr>\n",
       "      <th>1305</th>\n",
       "      <td>3</td>\n",
       "      <td>Spector, Mr. Woolf</td>\n",
       "      <td>male</td>\n",
       "      <td>NaN</td>\n",
       "      <td>0</td>\n",
       "      <td>0</td>\n",
       "      <td>A.5. 3236</td>\n",
       "      <td>8.0500</td>\n",
       "      <td>NaN</td>\n",
       "      <td>S</td>\n",
       "      <td>test</td>\n",
       "    </tr>\n",
       "    <tr>\n",
       "      <th>1306</th>\n",
       "      <td>1</td>\n",
       "      <td>Oliva y Ocana, Dona. Fermina</td>\n",
       "      <td>female</td>\n",
       "      <td>39.0</td>\n",
       "      <td>0</td>\n",
       "      <td>0</td>\n",
       "      <td>PC 17758</td>\n",
       "      <td>108.9000</td>\n",
       "      <td>C105</td>\n",
       "      <td>C</td>\n",
       "      <td>test</td>\n",
       "    </tr>\n",
       "    <tr>\n",
       "      <th>1307</th>\n",
       "      <td>3</td>\n",
       "      <td>Saether, Mr. Simon Sivertsen</td>\n",
       "      <td>male</td>\n",
       "      <td>38.5</td>\n",
       "      <td>0</td>\n",
       "      <td>0</td>\n",
       "      <td>SOTON/O.Q. 3101262</td>\n",
       "      <td>7.2500</td>\n",
       "      <td>NaN</td>\n",
       "      <td>S</td>\n",
       "      <td>test</td>\n",
       "    </tr>\n",
       "    <tr>\n",
       "      <th>1308</th>\n",
       "      <td>3</td>\n",
       "      <td>Ware, Mr. Frederick</td>\n",
       "      <td>male</td>\n",
       "      <td>NaN</td>\n",
       "      <td>0</td>\n",
       "      <td>0</td>\n",
       "      <td>359309</td>\n",
       "      <td>8.0500</td>\n",
       "      <td>NaN</td>\n",
       "      <td>S</td>\n",
       "      <td>test</td>\n",
       "    </tr>\n",
       "    <tr>\n",
       "      <th>1309</th>\n",
       "      <td>3</td>\n",
       "      <td>Peter, Master. Michael J</td>\n",
       "      <td>male</td>\n",
       "      <td>NaN</td>\n",
       "      <td>1</td>\n",
       "      <td>1</td>\n",
       "      <td>2668</td>\n",
       "      <td>22.3583</td>\n",
       "      <td>NaN</td>\n",
       "      <td>C</td>\n",
       "      <td>test</td>\n",
       "    </tr>\n",
       "  </tbody>\n",
       "</table>\n",
       "<p>418 rows × 11 columns</p>\n",
       "</div>"
      ],
      "text/plain": [
       "             Pclass                                          Name     Sex  \\\n",
       "PassengerId                                                                 \n",
       "892               3                              Kelly, Mr. James    male   \n",
       "893               3              Wilkes, Mrs. James (Ellen Needs)  female   \n",
       "894               2                     Myles, Mr. Thomas Francis    male   \n",
       "895               3                              Wirz, Mr. Albert    male   \n",
       "896               3  Hirvonen, Mrs. Alexander (Helga E Lindqvist)  female   \n",
       "...             ...                                           ...     ...   \n",
       "1305              3                            Spector, Mr. Woolf    male   \n",
       "1306              1                  Oliva y Ocana, Dona. Fermina  female   \n",
       "1307              3                  Saether, Mr. Simon Sivertsen    male   \n",
       "1308              3                           Ware, Mr. Frederick    male   \n",
       "1309              3                      Peter, Master. Michael J    male   \n",
       "\n",
       "              Age  SibSp  Parch              Ticket      Fare Cabin Embarked  \\\n",
       "PassengerId                                                                    \n",
       "892          34.5      0      0              330911    7.8292   NaN        Q   \n",
       "893          47.0      1      0              363272    7.0000   NaN        S   \n",
       "894          62.0      0      0              240276    9.6875   NaN        Q   \n",
       "895          27.0      0      0              315154    8.6625   NaN        S   \n",
       "896          22.0      1      1             3101298   12.2875   NaN        S   \n",
       "...           ...    ...    ...                 ...       ...   ...      ...   \n",
       "1305          NaN      0      0           A.5. 3236    8.0500   NaN        S   \n",
       "1306         39.0      0      0            PC 17758  108.9000  C105        C   \n",
       "1307         38.5      0      0  SOTON/O.Q. 3101262    7.2500   NaN        S   \n",
       "1308          NaN      0      0              359309    8.0500   NaN        S   \n",
       "1309          NaN      1      1                2668   22.3583   NaN        C   \n",
       "\n",
       "            data_type  \n",
       "PassengerId            \n",
       "892              test  \n",
       "893              test  \n",
       "894              test  \n",
       "895              test  \n",
       "896              test  \n",
       "...               ...  \n",
       "1305             test  \n",
       "1306             test  \n",
       "1307             test  \n",
       "1308             test  \n",
       "1309             test  \n",
       "\n",
       "[418 rows x 11 columns]"
      ]
     },
     "execution_count": 3,
     "metadata": {},
     "output_type": "execute_result"
    }
   ],
   "source": [
    "test = pd.read_csv(\"/kaggle/input/titanic/test.csv\") \\\n",
    "    .set_index(\"PassengerId\") \\\n",
    "    .assign(data_type=\"test\")\n",
    "test"
   ]
  },
  {
   "cell_type": "code",
   "execution_count": 4,
   "id": "14c56320",
   "metadata": {
    "execution": {
     "iopub.execute_input": "2024-02-03T02:59:15.226124Z",
     "iopub.status.busy": "2024-02-03T02:59:15.225684Z",
     "iopub.status.idle": "2024-02-03T02:59:15.341204Z",
     "shell.execute_reply": "2024-02-03T02:59:15.340267Z"
    },
    "papermill": {
     "duration": 0.141371,
     "end_time": "2024-02-03T02:59:15.343416",
     "exception": false,
     "start_time": "2024-02-03T02:59:15.202045",
     "status": "completed"
    },
    "tags": []
   },
   "outputs": [
    {
     "data": {
      "text/html": [
       "<div>\n",
       "<style scoped>\n",
       "    .dataframe tbody tr th:only-of-type {\n",
       "        vertical-align: middle;\n",
       "    }\n",
       "\n",
       "    .dataframe tbody tr th {\n",
       "        vertical-align: top;\n",
       "    }\n",
       "\n",
       "    .dataframe thead th {\n",
       "        text-align: right;\n",
       "    }\n",
       "</style>\n",
       "<table border=\"1\" class=\"dataframe\">\n",
       "  <thead>\n",
       "    <tr style=\"text-align: right;\">\n",
       "      <th></th>\n",
       "      <th>Survived</th>\n",
       "      <th>Pclass</th>\n",
       "      <th>Name</th>\n",
       "      <th>Sex</th>\n",
       "      <th>Age</th>\n",
       "      <th>SibSp</th>\n",
       "      <th>Parch</th>\n",
       "      <th>Ticket</th>\n",
       "      <th>Fare</th>\n",
       "      <th>Cabin</th>\n",
       "      <th>Embarked</th>\n",
       "      <th>data_type</th>\n",
       "    </tr>\n",
       "    <tr>\n",
       "      <th>PassengerId</th>\n",
       "      <th></th>\n",
       "      <th></th>\n",
       "      <th></th>\n",
       "      <th></th>\n",
       "      <th></th>\n",
       "      <th></th>\n",
       "      <th></th>\n",
       "      <th></th>\n",
       "      <th></th>\n",
       "      <th></th>\n",
       "      <th></th>\n",
       "      <th></th>\n",
       "    </tr>\n",
       "  </thead>\n",
       "  <tbody>\n",
       "    <tr>\n",
       "      <th>1</th>\n",
       "      <td>0.0</td>\n",
       "      <td>3</td>\n",
       "      <td>Braund, Mr. Owen Harris</td>\n",
       "      <td>male</td>\n",
       "      <td>22.0</td>\n",
       "      <td>1</td>\n",
       "      <td>0</td>\n",
       "      <td>A/5 21171</td>\n",
       "      <td>7.2500</td>\n",
       "      <td>NaN</td>\n",
       "      <td>S</td>\n",
       "      <td>train</td>\n",
       "    </tr>\n",
       "    <tr>\n",
       "      <th>2</th>\n",
       "      <td>1.0</td>\n",
       "      <td>1</td>\n",
       "      <td>Cumings, Mrs. John Bradley (Florence Briggs Th...</td>\n",
       "      <td>female</td>\n",
       "      <td>38.0</td>\n",
       "      <td>1</td>\n",
       "      <td>0</td>\n",
       "      <td>PC 17599</td>\n",
       "      <td>71.2833</td>\n",
       "      <td>C85</td>\n",
       "      <td>C</td>\n",
       "      <td>train</td>\n",
       "    </tr>\n",
       "    <tr>\n",
       "      <th>3</th>\n",
       "      <td>1.0</td>\n",
       "      <td>3</td>\n",
       "      <td>Heikkinen, Miss. Laina</td>\n",
       "      <td>female</td>\n",
       "      <td>26.0</td>\n",
       "      <td>0</td>\n",
       "      <td>0</td>\n",
       "      <td>STON/O2. 3101282</td>\n",
       "      <td>7.9250</td>\n",
       "      <td>NaN</td>\n",
       "      <td>S</td>\n",
       "      <td>train</td>\n",
       "    </tr>\n",
       "    <tr>\n",
       "      <th>4</th>\n",
       "      <td>1.0</td>\n",
       "      <td>1</td>\n",
       "      <td>Futrelle, Mrs. Jacques Heath (Lily May Peel)</td>\n",
       "      <td>female</td>\n",
       "      <td>35.0</td>\n",
       "      <td>1</td>\n",
       "      <td>0</td>\n",
       "      <td>113803</td>\n",
       "      <td>53.1000</td>\n",
       "      <td>C123</td>\n",
       "      <td>S</td>\n",
       "      <td>train</td>\n",
       "    </tr>\n",
       "    <tr>\n",
       "      <th>5</th>\n",
       "      <td>0.0</td>\n",
       "      <td>3</td>\n",
       "      <td>Allen, Mr. William Henry</td>\n",
       "      <td>male</td>\n",
       "      <td>35.0</td>\n",
       "      <td>0</td>\n",
       "      <td>0</td>\n",
       "      <td>373450</td>\n",
       "      <td>8.0500</td>\n",
       "      <td>NaN</td>\n",
       "      <td>S</td>\n",
       "      <td>train</td>\n",
       "    </tr>\n",
       "    <tr>\n",
       "      <th>...</th>\n",
       "      <td>...</td>\n",
       "      <td>...</td>\n",
       "      <td>...</td>\n",
       "      <td>...</td>\n",
       "      <td>...</td>\n",
       "      <td>...</td>\n",
       "      <td>...</td>\n",
       "      <td>...</td>\n",
       "      <td>...</td>\n",
       "      <td>...</td>\n",
       "      <td>...</td>\n",
       "      <td>...</td>\n",
       "    </tr>\n",
       "    <tr>\n",
       "      <th>1305</th>\n",
       "      <td>NaN</td>\n",
       "      <td>3</td>\n",
       "      <td>Spector, Mr. Woolf</td>\n",
       "      <td>male</td>\n",
       "      <td>NaN</td>\n",
       "      <td>0</td>\n",
       "      <td>0</td>\n",
       "      <td>A.5. 3236</td>\n",
       "      <td>8.0500</td>\n",
       "      <td>NaN</td>\n",
       "      <td>S</td>\n",
       "      <td>test</td>\n",
       "    </tr>\n",
       "    <tr>\n",
       "      <th>1306</th>\n",
       "      <td>NaN</td>\n",
       "      <td>1</td>\n",
       "      <td>Oliva y Ocana, Dona. Fermina</td>\n",
       "      <td>female</td>\n",
       "      <td>39.0</td>\n",
       "      <td>0</td>\n",
       "      <td>0</td>\n",
       "      <td>PC 17758</td>\n",
       "      <td>108.9000</td>\n",
       "      <td>C105</td>\n",
       "      <td>C</td>\n",
       "      <td>test</td>\n",
       "    </tr>\n",
       "    <tr>\n",
       "      <th>1307</th>\n",
       "      <td>NaN</td>\n",
       "      <td>3</td>\n",
       "      <td>Saether, Mr. Simon Sivertsen</td>\n",
       "      <td>male</td>\n",
       "      <td>38.5</td>\n",
       "      <td>0</td>\n",
       "      <td>0</td>\n",
       "      <td>SOTON/O.Q. 3101262</td>\n",
       "      <td>7.2500</td>\n",
       "      <td>NaN</td>\n",
       "      <td>S</td>\n",
       "      <td>test</td>\n",
       "    </tr>\n",
       "    <tr>\n",
       "      <th>1308</th>\n",
       "      <td>NaN</td>\n",
       "      <td>3</td>\n",
       "      <td>Ware, Mr. Frederick</td>\n",
       "      <td>male</td>\n",
       "      <td>NaN</td>\n",
       "      <td>0</td>\n",
       "      <td>0</td>\n",
       "      <td>359309</td>\n",
       "      <td>8.0500</td>\n",
       "      <td>NaN</td>\n",
       "      <td>S</td>\n",
       "      <td>test</td>\n",
       "    </tr>\n",
       "    <tr>\n",
       "      <th>1309</th>\n",
       "      <td>NaN</td>\n",
       "      <td>3</td>\n",
       "      <td>Peter, Master. Michael J</td>\n",
       "      <td>male</td>\n",
       "      <td>NaN</td>\n",
       "      <td>1</td>\n",
       "      <td>1</td>\n",
       "      <td>2668</td>\n",
       "      <td>22.3583</td>\n",
       "      <td>NaN</td>\n",
       "      <td>C</td>\n",
       "      <td>test</td>\n",
       "    </tr>\n",
       "  </tbody>\n",
       "</table>\n",
       "<p>1309 rows × 12 columns</p>\n",
       "</div>"
      ],
      "text/plain": [
       "             Survived  Pclass  \\\n",
       "PassengerId                     \n",
       "1                 0.0       3   \n",
       "2                 1.0       1   \n",
       "3                 1.0       3   \n",
       "4                 1.0       1   \n",
       "5                 0.0       3   \n",
       "...               ...     ...   \n",
       "1305              NaN       3   \n",
       "1306              NaN       1   \n",
       "1307              NaN       3   \n",
       "1308              NaN       3   \n",
       "1309              NaN       3   \n",
       "\n",
       "                                                          Name     Sex   Age  \\\n",
       "PassengerId                                                                    \n",
       "1                                      Braund, Mr. Owen Harris    male  22.0   \n",
       "2            Cumings, Mrs. John Bradley (Florence Briggs Th...  female  38.0   \n",
       "3                                       Heikkinen, Miss. Laina  female  26.0   \n",
       "4                 Futrelle, Mrs. Jacques Heath (Lily May Peel)  female  35.0   \n",
       "5                                     Allen, Mr. William Henry    male  35.0   \n",
       "...                                                        ...     ...   ...   \n",
       "1305                                        Spector, Mr. Woolf    male   NaN   \n",
       "1306                              Oliva y Ocana, Dona. Fermina  female  39.0   \n",
       "1307                              Saether, Mr. Simon Sivertsen    male  38.5   \n",
       "1308                                       Ware, Mr. Frederick    male   NaN   \n",
       "1309                                  Peter, Master. Michael J    male   NaN   \n",
       "\n",
       "             SibSp  Parch              Ticket      Fare Cabin Embarked  \\\n",
       "PassengerId                                                              \n",
       "1                1      0           A/5 21171    7.2500   NaN        S   \n",
       "2                1      0            PC 17599   71.2833   C85        C   \n",
       "3                0      0    STON/O2. 3101282    7.9250   NaN        S   \n",
       "4                1      0              113803   53.1000  C123        S   \n",
       "5                0      0              373450    8.0500   NaN        S   \n",
       "...            ...    ...                 ...       ...   ...      ...   \n",
       "1305             0      0           A.5. 3236    8.0500   NaN        S   \n",
       "1306             0      0            PC 17758  108.9000  C105        C   \n",
       "1307             0      0  SOTON/O.Q. 3101262    7.2500   NaN        S   \n",
       "1308             0      0              359309    8.0500   NaN        S   \n",
       "1309             1      1                2668   22.3583   NaN        C   \n",
       "\n",
       "            data_type  \n",
       "PassengerId            \n",
       "1               train  \n",
       "2               train  \n",
       "3               train  \n",
       "4               train  \n",
       "5               train  \n",
       "...               ...  \n",
       "1305             test  \n",
       "1306             test  \n",
       "1307             test  \n",
       "1308             test  \n",
       "1309             test  \n",
       "\n",
       "[1309 rows x 12 columns]"
      ]
     },
     "execution_count": 4,
     "metadata": {},
     "output_type": "execute_result"
    }
   ],
   "source": [
    "# Let's concatenate both tables in only one data frame.\n",
    "df = pd.concat([train, test], axis=0)\n",
    "df"
   ]
  },
  {
   "cell_type": "markdown",
   "id": "6bbf7bc7",
   "metadata": {
    "papermill": {
     "duration": 0.022332,
     "end_time": "2024-02-03T02:59:15.388594",
     "exception": false,
     "start_time": "2024-02-03T02:59:15.366262",
     "status": "completed"
    },
    "tags": []
   },
   "source": [
    "# Describe the raw data frame\n",
    "\n",
    "Let's see the structure of this new concatenated data frame."
   ]
  },
  {
   "cell_type": "code",
   "execution_count": 5,
   "id": "a210a98d",
   "metadata": {
    "execution": {
     "iopub.execute_input": "2024-02-03T02:59:15.435395Z",
     "iopub.status.busy": "2024-02-03T02:59:15.434998Z",
     "iopub.status.idle": "2024-02-03T02:59:15.443480Z",
     "shell.execute_reply": "2024-02-03T02:59:15.442390Z"
    },
    "papermill": {
     "duration": 0.034826,
     "end_time": "2024-02-03T02:59:15.445979",
     "exception": false,
     "start_time": "2024-02-03T02:59:15.411153",
     "status": "completed"
    },
    "tags": []
   },
   "outputs": [
    {
     "data": {
      "text/plain": [
       "Survived     float64\n",
       "Pclass         int64\n",
       "Name          object\n",
       "Sex           object\n",
       "Age          float64\n",
       "SibSp          int64\n",
       "Parch          int64\n",
       "Ticket        object\n",
       "Fare         float64\n",
       "Cabin         object\n",
       "Embarked      object\n",
       "data_type     object\n",
       "dtype: object"
      ]
     },
     "execution_count": 5,
     "metadata": {},
     "output_type": "execute_result"
    }
   ],
   "source": [
    "df.dtypes"
   ]
  },
  {
   "cell_type": "markdown",
   "id": "e314b5e6",
   "metadata": {
    "papermill": {
     "duration": 0.022555,
     "end_time": "2024-02-03T02:59:15.491712",
     "exception": false,
     "start_time": "2024-02-03T02:59:15.469157",
     "status": "completed"
    },
    "tags": []
   },
   "source": [
    "We can see that the data frame contains a mix of numeric and categorical variables.\n",
    "\n",
    "**It is important to note that many numerical variables can be encoded as categorical variables**. For example, column `Pclass` / ticket class. This will help us to visualize their values properly later."
   ]
  },
  {
   "cell_type": "markdown",
   "id": "78b09285",
   "metadata": {
    "papermill": {
     "duration": 0.022516,
     "end_time": "2024-02-03T02:59:15.537073",
     "exception": false,
     "start_time": "2024-02-03T02:59:15.514557",
     "status": "completed"
    },
    "tags": []
   },
   "source": [
    "## Describing the numerical columns"
   ]
  },
  {
   "cell_type": "code",
   "execution_count": 6,
   "id": "53ab3dd7",
   "metadata": {
    "execution": {
     "iopub.execute_input": "2024-02-03T02:59:15.649904Z",
     "iopub.status.busy": "2024-02-03T02:59:15.649500Z",
     "iopub.status.idle": "2024-02-03T02:59:15.683225Z",
     "shell.execute_reply": "2024-02-03T02:59:15.681735Z"
    },
    "papermill": {
     "duration": 0.06135,
     "end_time": "2024-02-03T02:59:15.685699",
     "exception": false,
     "start_time": "2024-02-03T02:59:15.624349",
     "status": "completed"
    },
    "tags": []
   },
   "outputs": [
    {
     "data": {
      "text/html": [
       "<div>\n",
       "<style scoped>\n",
       "    .dataframe tbody tr th:only-of-type {\n",
       "        vertical-align: middle;\n",
       "    }\n",
       "\n",
       "    .dataframe tbody tr th {\n",
       "        vertical-align: top;\n",
       "    }\n",
       "\n",
       "    .dataframe thead th {\n",
       "        text-align: right;\n",
       "    }\n",
       "</style>\n",
       "<table border=\"1\" class=\"dataframe\">\n",
       "  <thead>\n",
       "    <tr style=\"text-align: right;\">\n",
       "      <th></th>\n",
       "      <th>Survived</th>\n",
       "      <th>Pclass</th>\n",
       "      <th>Age</th>\n",
       "      <th>SibSp</th>\n",
       "      <th>Parch</th>\n",
       "      <th>Fare</th>\n",
       "    </tr>\n",
       "  </thead>\n",
       "  <tbody>\n",
       "    <tr>\n",
       "      <th>count</th>\n",
       "      <td>891.000000</td>\n",
       "      <td>1309.000000</td>\n",
       "      <td>1046.000000</td>\n",
       "      <td>1309.000000</td>\n",
       "      <td>1309.000000</td>\n",
       "      <td>1308.000000</td>\n",
       "    </tr>\n",
       "    <tr>\n",
       "      <th>mean</th>\n",
       "      <td>0.383838</td>\n",
       "      <td>2.294882</td>\n",
       "      <td>29.881138</td>\n",
       "      <td>0.498854</td>\n",
       "      <td>0.385027</td>\n",
       "      <td>33.295479</td>\n",
       "    </tr>\n",
       "    <tr>\n",
       "      <th>std</th>\n",
       "      <td>0.486592</td>\n",
       "      <td>0.837836</td>\n",
       "      <td>14.413493</td>\n",
       "      <td>1.041658</td>\n",
       "      <td>0.865560</td>\n",
       "      <td>51.758668</td>\n",
       "    </tr>\n",
       "    <tr>\n",
       "      <th>min</th>\n",
       "      <td>0.000000</td>\n",
       "      <td>1.000000</td>\n",
       "      <td>0.170000</td>\n",
       "      <td>0.000000</td>\n",
       "      <td>0.000000</td>\n",
       "      <td>0.000000</td>\n",
       "    </tr>\n",
       "    <tr>\n",
       "      <th>25%</th>\n",
       "      <td>0.000000</td>\n",
       "      <td>2.000000</td>\n",
       "      <td>21.000000</td>\n",
       "      <td>0.000000</td>\n",
       "      <td>0.000000</td>\n",
       "      <td>7.895800</td>\n",
       "    </tr>\n",
       "    <tr>\n",
       "      <th>50%</th>\n",
       "      <td>0.000000</td>\n",
       "      <td>3.000000</td>\n",
       "      <td>28.000000</td>\n",
       "      <td>0.000000</td>\n",
       "      <td>0.000000</td>\n",
       "      <td>14.454200</td>\n",
       "    </tr>\n",
       "    <tr>\n",
       "      <th>75%</th>\n",
       "      <td>1.000000</td>\n",
       "      <td>3.000000</td>\n",
       "      <td>39.000000</td>\n",
       "      <td>1.000000</td>\n",
       "      <td>0.000000</td>\n",
       "      <td>31.275000</td>\n",
       "    </tr>\n",
       "    <tr>\n",
       "      <th>max</th>\n",
       "      <td>1.000000</td>\n",
       "      <td>3.000000</td>\n",
       "      <td>80.000000</td>\n",
       "      <td>8.000000</td>\n",
       "      <td>9.000000</td>\n",
       "      <td>512.329200</td>\n",
       "    </tr>\n",
       "  </tbody>\n",
       "</table>\n",
       "</div>"
      ],
      "text/plain": [
       "         Survived       Pclass          Age        SibSp        Parch  \\\n",
       "count  891.000000  1309.000000  1046.000000  1309.000000  1309.000000   \n",
       "mean     0.383838     2.294882    29.881138     0.498854     0.385027   \n",
       "std      0.486592     0.837836    14.413493     1.041658     0.865560   \n",
       "min      0.000000     1.000000     0.170000     0.000000     0.000000   \n",
       "25%      0.000000     2.000000    21.000000     0.000000     0.000000   \n",
       "50%      0.000000     3.000000    28.000000     0.000000     0.000000   \n",
       "75%      1.000000     3.000000    39.000000     1.000000     0.000000   \n",
       "max      1.000000     3.000000    80.000000     8.000000     9.000000   \n",
       "\n",
       "              Fare  \n",
       "count  1308.000000  \n",
       "mean     33.295479  \n",
       "std      51.758668  \n",
       "min       0.000000  \n",
       "25%       7.895800  \n",
       "50%      14.454200  \n",
       "75%      31.275000  \n",
       "max     512.329200  "
      ]
     },
     "execution_count": 6,
     "metadata": {},
     "output_type": "execute_result"
    }
   ],
   "source": [
    "df.describe()"
   ]
  },
  {
   "cell_type": "markdown",
   "id": "fc7f366e",
   "metadata": {
    "papermill": {
     "duration": 0.023006,
     "end_time": "2024-02-03T02:59:15.732521",
     "exception": false,
     "start_time": "2024-02-03T02:59:15.709515",
     "status": "completed"
    },
    "tags": []
   },
   "source": [
    "Variables that can be analyzed as numerical are `Age`, `SibSp`, `Parch` and `Fare`.\n",
    "\n",
    "- Not all passengers have an age stored in the table. But from the existing values, the average age of the passengers is almost **30 years old**.\n",
    "\n",
    "Let's explore which rows are empty."
   ]
  },
  {
   "cell_type": "code",
   "execution_count": 7,
   "id": "33dcb635",
   "metadata": {
    "execution": {
     "iopub.execute_input": "2024-02-03T02:59:15.781430Z",
     "iopub.status.busy": "2024-02-03T02:59:15.780691Z",
     "iopub.status.idle": "2024-02-03T02:59:15.806120Z",
     "shell.execute_reply": "2024-02-03T02:59:15.804976Z"
    },
    "papermill": {
     "duration": 0.053177,
     "end_time": "2024-02-03T02:59:15.808946",
     "exception": false,
     "start_time": "2024-02-03T02:59:15.755769",
     "status": "completed"
    },
    "tags": []
   },
   "outputs": [
    {
     "data": {
      "text/html": [
       "<div>\n",
       "<style scoped>\n",
       "    .dataframe tbody tr th:only-of-type {\n",
       "        vertical-align: middle;\n",
       "    }\n",
       "\n",
       "    .dataframe tbody tr th {\n",
       "        vertical-align: top;\n",
       "    }\n",
       "\n",
       "    .dataframe thead th {\n",
       "        text-align: right;\n",
       "    }\n",
       "</style>\n",
       "<table border=\"1\" class=\"dataframe\">\n",
       "  <thead>\n",
       "    <tr style=\"text-align: right;\">\n",
       "      <th></th>\n",
       "      <th>Survived</th>\n",
       "      <th>Pclass</th>\n",
       "      <th>Name</th>\n",
       "      <th>Sex</th>\n",
       "      <th>Age</th>\n",
       "      <th>SibSp</th>\n",
       "      <th>Parch</th>\n",
       "      <th>Ticket</th>\n",
       "      <th>Fare</th>\n",
       "      <th>Cabin</th>\n",
       "      <th>Embarked</th>\n",
       "      <th>data_type</th>\n",
       "    </tr>\n",
       "    <tr>\n",
       "      <th>PassengerId</th>\n",
       "      <th></th>\n",
       "      <th></th>\n",
       "      <th></th>\n",
       "      <th></th>\n",
       "      <th></th>\n",
       "      <th></th>\n",
       "      <th></th>\n",
       "      <th></th>\n",
       "      <th></th>\n",
       "      <th></th>\n",
       "      <th></th>\n",
       "      <th></th>\n",
       "    </tr>\n",
       "  </thead>\n",
       "  <tbody>\n",
       "    <tr>\n",
       "      <th>6</th>\n",
       "      <td>0.0</td>\n",
       "      <td>3</td>\n",
       "      <td>Moran, Mr. James</td>\n",
       "      <td>male</td>\n",
       "      <td>NaN</td>\n",
       "      <td>0</td>\n",
       "      <td>0</td>\n",
       "      <td>330877</td>\n",
       "      <td>8.4583</td>\n",
       "      <td>NaN</td>\n",
       "      <td>Q</td>\n",
       "      <td>train</td>\n",
       "    </tr>\n",
       "    <tr>\n",
       "      <th>18</th>\n",
       "      <td>1.0</td>\n",
       "      <td>2</td>\n",
       "      <td>Williams, Mr. Charles Eugene</td>\n",
       "      <td>male</td>\n",
       "      <td>NaN</td>\n",
       "      <td>0</td>\n",
       "      <td>0</td>\n",
       "      <td>244373</td>\n",
       "      <td>13.0000</td>\n",
       "      <td>NaN</td>\n",
       "      <td>S</td>\n",
       "      <td>train</td>\n",
       "    </tr>\n",
       "    <tr>\n",
       "      <th>20</th>\n",
       "      <td>1.0</td>\n",
       "      <td>3</td>\n",
       "      <td>Masselmani, Mrs. Fatima</td>\n",
       "      <td>female</td>\n",
       "      <td>NaN</td>\n",
       "      <td>0</td>\n",
       "      <td>0</td>\n",
       "      <td>2649</td>\n",
       "      <td>7.2250</td>\n",
       "      <td>NaN</td>\n",
       "      <td>C</td>\n",
       "      <td>train</td>\n",
       "    </tr>\n",
       "    <tr>\n",
       "      <th>27</th>\n",
       "      <td>0.0</td>\n",
       "      <td>3</td>\n",
       "      <td>Emir, Mr. Farred Chehab</td>\n",
       "      <td>male</td>\n",
       "      <td>NaN</td>\n",
       "      <td>0</td>\n",
       "      <td>0</td>\n",
       "      <td>2631</td>\n",
       "      <td>7.2250</td>\n",
       "      <td>NaN</td>\n",
       "      <td>C</td>\n",
       "      <td>train</td>\n",
       "    </tr>\n",
       "    <tr>\n",
       "      <th>29</th>\n",
       "      <td>1.0</td>\n",
       "      <td>3</td>\n",
       "      <td>O'Dwyer, Miss. Ellen \"Nellie\"</td>\n",
       "      <td>female</td>\n",
       "      <td>NaN</td>\n",
       "      <td>0</td>\n",
       "      <td>0</td>\n",
       "      <td>330959</td>\n",
       "      <td>7.8792</td>\n",
       "      <td>NaN</td>\n",
       "      <td>Q</td>\n",
       "      <td>train</td>\n",
       "    </tr>\n",
       "    <tr>\n",
       "      <th>...</th>\n",
       "      <td>...</td>\n",
       "      <td>...</td>\n",
       "      <td>...</td>\n",
       "      <td>...</td>\n",
       "      <td>...</td>\n",
       "      <td>...</td>\n",
       "      <td>...</td>\n",
       "      <td>...</td>\n",
       "      <td>...</td>\n",
       "      <td>...</td>\n",
       "      <td>...</td>\n",
       "      <td>...</td>\n",
       "    </tr>\n",
       "    <tr>\n",
       "      <th>1300</th>\n",
       "      <td>NaN</td>\n",
       "      <td>3</td>\n",
       "      <td>Riordan, Miss. Johanna Hannah\"\"</td>\n",
       "      <td>female</td>\n",
       "      <td>NaN</td>\n",
       "      <td>0</td>\n",
       "      <td>0</td>\n",
       "      <td>334915</td>\n",
       "      <td>7.7208</td>\n",
       "      <td>NaN</td>\n",
       "      <td>Q</td>\n",
       "      <td>test</td>\n",
       "    </tr>\n",
       "    <tr>\n",
       "      <th>1302</th>\n",
       "      <td>NaN</td>\n",
       "      <td>3</td>\n",
       "      <td>Naughton, Miss. Hannah</td>\n",
       "      <td>female</td>\n",
       "      <td>NaN</td>\n",
       "      <td>0</td>\n",
       "      <td>0</td>\n",
       "      <td>365237</td>\n",
       "      <td>7.7500</td>\n",
       "      <td>NaN</td>\n",
       "      <td>Q</td>\n",
       "      <td>test</td>\n",
       "    </tr>\n",
       "    <tr>\n",
       "      <th>1305</th>\n",
       "      <td>NaN</td>\n",
       "      <td>3</td>\n",
       "      <td>Spector, Mr. Woolf</td>\n",
       "      <td>male</td>\n",
       "      <td>NaN</td>\n",
       "      <td>0</td>\n",
       "      <td>0</td>\n",
       "      <td>A.5. 3236</td>\n",
       "      <td>8.0500</td>\n",
       "      <td>NaN</td>\n",
       "      <td>S</td>\n",
       "      <td>test</td>\n",
       "    </tr>\n",
       "    <tr>\n",
       "      <th>1308</th>\n",
       "      <td>NaN</td>\n",
       "      <td>3</td>\n",
       "      <td>Ware, Mr. Frederick</td>\n",
       "      <td>male</td>\n",
       "      <td>NaN</td>\n",
       "      <td>0</td>\n",
       "      <td>0</td>\n",
       "      <td>359309</td>\n",
       "      <td>8.0500</td>\n",
       "      <td>NaN</td>\n",
       "      <td>S</td>\n",
       "      <td>test</td>\n",
       "    </tr>\n",
       "    <tr>\n",
       "      <th>1309</th>\n",
       "      <td>NaN</td>\n",
       "      <td>3</td>\n",
       "      <td>Peter, Master. Michael J</td>\n",
       "      <td>male</td>\n",
       "      <td>NaN</td>\n",
       "      <td>1</td>\n",
       "      <td>1</td>\n",
       "      <td>2668</td>\n",
       "      <td>22.3583</td>\n",
       "      <td>NaN</td>\n",
       "      <td>C</td>\n",
       "      <td>test</td>\n",
       "    </tr>\n",
       "  </tbody>\n",
       "</table>\n",
       "<p>263 rows × 12 columns</p>\n",
       "</div>"
      ],
      "text/plain": [
       "             Survived  Pclass                             Name     Sex  Age  \\\n",
       "PassengerId                                                                   \n",
       "6                 0.0       3                 Moran, Mr. James    male  NaN   \n",
       "18                1.0       2     Williams, Mr. Charles Eugene    male  NaN   \n",
       "20                1.0       3          Masselmani, Mrs. Fatima  female  NaN   \n",
       "27                0.0       3          Emir, Mr. Farred Chehab    male  NaN   \n",
       "29                1.0       3    O'Dwyer, Miss. Ellen \"Nellie\"  female  NaN   \n",
       "...               ...     ...                              ...     ...  ...   \n",
       "1300              NaN       3  Riordan, Miss. Johanna Hannah\"\"  female  NaN   \n",
       "1302              NaN       3           Naughton, Miss. Hannah  female  NaN   \n",
       "1305              NaN       3               Spector, Mr. Woolf    male  NaN   \n",
       "1308              NaN       3              Ware, Mr. Frederick    male  NaN   \n",
       "1309              NaN       3         Peter, Master. Michael J    male  NaN   \n",
       "\n",
       "             SibSp  Parch     Ticket     Fare Cabin Embarked data_type  \n",
       "PassengerId                                                             \n",
       "6                0      0     330877   8.4583   NaN        Q     train  \n",
       "18               0      0     244373  13.0000   NaN        S     train  \n",
       "20               0      0       2649   7.2250   NaN        C     train  \n",
       "27               0      0       2631   7.2250   NaN        C     train  \n",
       "29               0      0     330959   7.8792   NaN        Q     train  \n",
       "...            ...    ...        ...      ...   ...      ...       ...  \n",
       "1300             0      0     334915   7.7208   NaN        Q      test  \n",
       "1302             0      0     365237   7.7500   NaN        Q      test  \n",
       "1305             0      0  A.5. 3236   8.0500   NaN        S      test  \n",
       "1308             0      0     359309   8.0500   NaN        S      test  \n",
       "1309             1      1       2668  22.3583   NaN        C      test  \n",
       "\n",
       "[263 rows x 12 columns]"
      ]
     },
     "execution_count": 7,
     "metadata": {},
     "output_type": "execute_result"
    }
   ],
   "source": [
    "df[pd.isna(df[\"Age\"])]"
   ]
  },
  {
   "cell_type": "markdown",
   "id": "f24894a1",
   "metadata": {
    "papermill": {
     "duration": 0.024565,
     "end_time": "2024-02-03T02:59:15.857989",
     "exception": false,
     "start_time": "2024-02-03T02:59:15.833424",
     "status": "completed"
    },
    "tags": []
   },
   "source": [
    "We can think of different ways of imputing these values. For example, **taking their fare to calculate an approximate age based on other similar fare values**.\n",
    "\n",
    "- The mean fare value of the tickets **is more or less 33**. The dataset does not mention the currency of the fare.\n",
    "\n",
    "There is one row that is empty. Let's explore which one is:"
   ]
  },
  {
   "cell_type": "code",
   "execution_count": 8,
   "id": "1fef4e2b",
   "metadata": {
    "execution": {
     "iopub.execute_input": "2024-02-03T02:59:15.909013Z",
     "iopub.status.busy": "2024-02-03T02:59:15.908019Z",
     "iopub.status.idle": "2024-02-03T02:59:15.926090Z",
     "shell.execute_reply": "2024-02-03T02:59:15.924919Z"
    },
    "papermill": {
     "duration": 0.046124,
     "end_time": "2024-02-03T02:59:15.928483",
     "exception": false,
     "start_time": "2024-02-03T02:59:15.882359",
     "status": "completed"
    },
    "tags": []
   },
   "outputs": [
    {
     "data": {
      "text/html": [
       "<div>\n",
       "<style scoped>\n",
       "    .dataframe tbody tr th:only-of-type {\n",
       "        vertical-align: middle;\n",
       "    }\n",
       "\n",
       "    .dataframe tbody tr th {\n",
       "        vertical-align: top;\n",
       "    }\n",
       "\n",
       "    .dataframe thead th {\n",
       "        text-align: right;\n",
       "    }\n",
       "</style>\n",
       "<table border=\"1\" class=\"dataframe\">\n",
       "  <thead>\n",
       "    <tr style=\"text-align: right;\">\n",
       "      <th></th>\n",
       "      <th>Survived</th>\n",
       "      <th>Pclass</th>\n",
       "      <th>Name</th>\n",
       "      <th>Sex</th>\n",
       "      <th>Age</th>\n",
       "      <th>SibSp</th>\n",
       "      <th>Parch</th>\n",
       "      <th>Ticket</th>\n",
       "      <th>Fare</th>\n",
       "      <th>Cabin</th>\n",
       "      <th>Embarked</th>\n",
       "      <th>data_type</th>\n",
       "    </tr>\n",
       "    <tr>\n",
       "      <th>PassengerId</th>\n",
       "      <th></th>\n",
       "      <th></th>\n",
       "      <th></th>\n",
       "      <th></th>\n",
       "      <th></th>\n",
       "      <th></th>\n",
       "      <th></th>\n",
       "      <th></th>\n",
       "      <th></th>\n",
       "      <th></th>\n",
       "      <th></th>\n",
       "      <th></th>\n",
       "    </tr>\n",
       "  </thead>\n",
       "  <tbody>\n",
       "    <tr>\n",
       "      <th>1044</th>\n",
       "      <td>NaN</td>\n",
       "      <td>3</td>\n",
       "      <td>Storey, Mr. Thomas</td>\n",
       "      <td>male</td>\n",
       "      <td>60.5</td>\n",
       "      <td>0</td>\n",
       "      <td>0</td>\n",
       "      <td>3701</td>\n",
       "      <td>NaN</td>\n",
       "      <td>NaN</td>\n",
       "      <td>S</td>\n",
       "      <td>test</td>\n",
       "    </tr>\n",
       "  </tbody>\n",
       "</table>\n",
       "</div>"
      ],
      "text/plain": [
       "             Survived  Pclass                Name   Sex   Age  SibSp  Parch  \\\n",
       "PassengerId                                                                   \n",
       "1044              NaN       3  Storey, Mr. Thomas  male  60.5      0      0   \n",
       "\n",
       "            Ticket  Fare Cabin Embarked data_type  \n",
       "PassengerId                                        \n",
       "1044          3701   NaN   NaN        S      test  "
      ]
     },
     "execution_count": 8,
     "metadata": {},
     "output_type": "execute_result"
    }
   ],
   "source": [
    "df[pd.isna(df[\"Fare\"])]"
   ]
  },
  {
   "cell_type": "markdown",
   "id": "90611cfd",
   "metadata": {
    "papermill": {
     "duration": 0.023722,
     "end_time": "2024-02-03T02:59:15.976208",
     "exception": false,
     "start_time": "2024-02-03T02:59:15.952486",
     "status": "completed"
    },
    "tags": []
   },
   "source": [
    "For imputing this value **we can take the age to calculate an approximate fare based on other similar age values**.\n",
    "\n",
    "- The mean number of *siblings / spouses* is 0.5 with a standard deviation of 1. This mean value does not make any sense (it is not physically possible to have 0.5 *siblings / spouses*). Something similar happens to the number of *parents / children*. For these two columns, it would be better to analyze the **median** instead of the mean. This value is expressed as the `50%` row. With this context, it is possible to conclude that **more than half of the passengers in the Titanic were travelling without family**.\n",
    "\n",
    "For the other two columns, `Survived` and `Pclass`, we can see that all of their records are correct (there are no invalid records) except for the `Survived` column. Remember that those non-existing values correspond to the rows that were part of the test data frame."
   ]
  },
  {
   "cell_type": "markdown",
   "id": "43fce774",
   "metadata": {
    "papermill": {
     "duration": 0.02426,
     "end_time": "2024-02-03T02:59:16.024814",
     "exception": false,
     "start_time": "2024-02-03T02:59:16.000554",
     "status": "completed"
    },
    "tags": []
   },
   "source": [
    "## Describing the categorical columns\n",
    "\n",
    "Now, let's analyze the categorical columns stored as `object` type."
   ]
  },
  {
   "cell_type": "code",
   "execution_count": 9,
   "id": "27977a57",
   "metadata": {
    "execution": {
     "iopub.execute_input": "2024-02-03T02:59:16.075993Z",
     "iopub.status.busy": "2024-02-03T02:59:16.075533Z",
     "iopub.status.idle": "2024-02-03T02:59:16.105241Z",
     "shell.execute_reply": "2024-02-03T02:59:16.104066Z"
    },
    "papermill": {
     "duration": 0.058383,
     "end_time": "2024-02-03T02:59:16.107768",
     "exception": false,
     "start_time": "2024-02-03T02:59:16.049385",
     "status": "completed"
    },
    "tags": []
   },
   "outputs": [
    {
     "data": {
      "text/html": [
       "<div>\n",
       "<style scoped>\n",
       "    .dataframe tbody tr th:only-of-type {\n",
       "        vertical-align: middle;\n",
       "    }\n",
       "\n",
       "    .dataframe tbody tr th {\n",
       "        vertical-align: top;\n",
       "    }\n",
       "\n",
       "    .dataframe thead th {\n",
       "        text-align: right;\n",
       "    }\n",
       "</style>\n",
       "<table border=\"1\" class=\"dataframe\">\n",
       "  <thead>\n",
       "    <tr style=\"text-align: right;\">\n",
       "      <th></th>\n",
       "      <th>Name</th>\n",
       "      <th>Sex</th>\n",
       "      <th>Ticket</th>\n",
       "      <th>Cabin</th>\n",
       "      <th>Embarked</th>\n",
       "      <th>data_type</th>\n",
       "    </tr>\n",
       "  </thead>\n",
       "  <tbody>\n",
       "    <tr>\n",
       "      <th>count</th>\n",
       "      <td>1309</td>\n",
       "      <td>1309</td>\n",
       "      <td>1309</td>\n",
       "      <td>295</td>\n",
       "      <td>1307</td>\n",
       "      <td>1309</td>\n",
       "    </tr>\n",
       "    <tr>\n",
       "      <th>unique</th>\n",
       "      <td>1307</td>\n",
       "      <td>2</td>\n",
       "      <td>929</td>\n",
       "      <td>186</td>\n",
       "      <td>3</td>\n",
       "      <td>2</td>\n",
       "    </tr>\n",
       "    <tr>\n",
       "      <th>top</th>\n",
       "      <td>Connolly, Miss. Kate</td>\n",
       "      <td>male</td>\n",
       "      <td>CA. 2343</td>\n",
       "      <td>C23 C25 C27</td>\n",
       "      <td>S</td>\n",
       "      <td>train</td>\n",
       "    </tr>\n",
       "    <tr>\n",
       "      <th>freq</th>\n",
       "      <td>2</td>\n",
       "      <td>843</td>\n",
       "      <td>11</td>\n",
       "      <td>6</td>\n",
       "      <td>914</td>\n",
       "      <td>891</td>\n",
       "    </tr>\n",
       "  </tbody>\n",
       "</table>\n",
       "</div>"
      ],
      "text/plain": [
       "                        Name   Sex    Ticket        Cabin Embarked data_type\n",
       "count                   1309  1309      1309          295     1307      1309\n",
       "unique                  1307     2       929          186        3         2\n",
       "top     Connolly, Miss. Kate  male  CA. 2343  C23 C25 C27        S     train\n",
       "freq                       2   843        11            6      914       891"
      ]
     },
     "execution_count": 9,
     "metadata": {},
     "output_type": "execute_result"
    }
   ],
   "source": [
    "df.describe(include=\"object\")"
   ]
  },
  {
   "cell_type": "markdown",
   "id": "4589b07f",
   "metadata": {
    "papermill": {
     "duration": 0.023893,
     "end_time": "2024-02-03T02:59:16.156172",
     "exception": false,
     "start_time": "2024-02-03T02:59:16.132279",
     "status": "completed"
    },
    "tags": []
   },
   "source": [
    "We can see that:\n",
    "\n",
    "- Column `Sex` is complete.\n",
    "- There are four people with the same name.\n",
    "\n",
    "Let's explore who they are:"
   ]
  },
  {
   "cell_type": "code",
   "execution_count": 10,
   "id": "4d7f3252",
   "metadata": {
    "execution": {
     "iopub.execute_input": "2024-02-03T02:59:16.207114Z",
     "iopub.status.busy": "2024-02-03T02:59:16.206177Z",
     "iopub.status.idle": "2024-02-03T02:59:16.226278Z",
     "shell.execute_reply": "2024-02-03T02:59:16.225088Z"
    },
    "papermill": {
     "duration": 0.048382,
     "end_time": "2024-02-03T02:59:16.228836",
     "exception": false,
     "start_time": "2024-02-03T02:59:16.180454",
     "status": "completed"
    },
    "tags": []
   },
   "outputs": [
    {
     "data": {
      "text/html": [
       "<div>\n",
       "<style scoped>\n",
       "    .dataframe tbody tr th:only-of-type {\n",
       "        vertical-align: middle;\n",
       "    }\n",
       "\n",
       "    .dataframe tbody tr th {\n",
       "        vertical-align: top;\n",
       "    }\n",
       "\n",
       "    .dataframe thead th {\n",
       "        text-align: right;\n",
       "    }\n",
       "</style>\n",
       "<table border=\"1\" class=\"dataframe\">\n",
       "  <thead>\n",
       "    <tr style=\"text-align: right;\">\n",
       "      <th></th>\n",
       "      <th>Name</th>\n",
       "      <th>size</th>\n",
       "    </tr>\n",
       "  </thead>\n",
       "  <tbody>\n",
       "    <tr>\n",
       "      <th>261</th>\n",
       "      <td>Connolly, Miss. Kate</td>\n",
       "      <td>2</td>\n",
       "    </tr>\n",
       "    <tr>\n",
       "      <th>638</th>\n",
       "      <td>Kelly, Mr. James</td>\n",
       "      <td>2</td>\n",
       "    </tr>\n",
       "    <tr>\n",
       "      <th>0</th>\n",
       "      <td>Abbing, Mr. Anthony</td>\n",
       "      <td>1</td>\n",
       "    </tr>\n",
       "    <tr>\n",
       "      <th>879</th>\n",
       "      <td>O'Brien, Mrs. Thomas (Johanna \"Hannah\" Godfrey)</td>\n",
       "      <td>1</td>\n",
       "    </tr>\n",
       "    <tr>\n",
       "      <th>877</th>\n",
       "      <td>O'Brien, Mr. Thomas</td>\n",
       "      <td>1</td>\n",
       "    </tr>\n",
       "    <tr>\n",
       "      <th>...</th>\n",
       "      <td>...</td>\n",
       "      <td>...</td>\n",
       "    </tr>\n",
       "    <tr>\n",
       "      <th>435</th>\n",
       "      <td>Gibson, Mrs. Leonard (Pauline C Boeson)</td>\n",
       "      <td>1</td>\n",
       "    </tr>\n",
       "    <tr>\n",
       "      <th>434</th>\n",
       "      <td>Gibson, Miss. Dorothy Winifred</td>\n",
       "      <td>1</td>\n",
       "    </tr>\n",
       "    <tr>\n",
       "      <th>433</th>\n",
       "      <td>Gheorgheff, Mr. Stanio</td>\n",
       "      <td>1</td>\n",
       "    </tr>\n",
       "    <tr>\n",
       "      <th>432</th>\n",
       "      <td>Geiger, Miss. Amalie</td>\n",
       "      <td>1</td>\n",
       "    </tr>\n",
       "    <tr>\n",
       "      <th>1306</th>\n",
       "      <td>van Melkebeke, Mr. Philemon</td>\n",
       "      <td>1</td>\n",
       "    </tr>\n",
       "  </tbody>\n",
       "</table>\n",
       "<p>1307 rows × 2 columns</p>\n",
       "</div>"
      ],
      "text/plain": [
       "                                                 Name  size\n",
       "261                              Connolly, Miss. Kate     2\n",
       "638                                  Kelly, Mr. James     2\n",
       "0                                 Abbing, Mr. Anthony     1\n",
       "879   O'Brien, Mrs. Thomas (Johanna \"Hannah\" Godfrey)     1\n",
       "877                               O'Brien, Mr. Thomas     1\n",
       "...                                               ...   ...\n",
       "435           Gibson, Mrs. Leonard (Pauline C Boeson)     1\n",
       "434                    Gibson, Miss. Dorothy Winifred     1\n",
       "433                            Gheorgheff, Mr. Stanio     1\n",
       "432                              Geiger, Miss. Amalie     1\n",
       "1306                      van Melkebeke, Mr. Philemon     1\n",
       "\n",
       "[1307 rows x 2 columns]"
      ]
     },
     "execution_count": 10,
     "metadata": {},
     "output_type": "execute_result"
    }
   ],
   "source": [
    "df.groupby(\"Name\", as_index=False).size().sort_values(\"size\", ascending=False)"
   ]
  },
  {
   "cell_type": "markdown",
   "id": "af9e1e2c",
   "metadata": {
    "papermill": {
     "duration": 0.02433,
     "end_time": "2024-02-03T02:59:16.277826",
     "exception": false,
     "start_time": "2024-02-03T02:59:16.253496",
     "status": "completed"
    },
    "tags": []
   },
   "source": [
    "Would this be an error? Let's explore those specific rows:"
   ]
  },
  {
   "cell_type": "code",
   "execution_count": 11,
   "id": "9ab9616a",
   "metadata": {
    "execution": {
     "iopub.execute_input": "2024-02-03T02:59:16.328795Z",
     "iopub.status.busy": "2024-02-03T02:59:16.328365Z",
     "iopub.status.idle": "2024-02-03T02:59:16.348700Z",
     "shell.execute_reply": "2024-02-03T02:59:16.347942Z"
    },
    "papermill": {
     "duration": 0.048552,
     "end_time": "2024-02-03T02:59:16.351056",
     "exception": false,
     "start_time": "2024-02-03T02:59:16.302504",
     "status": "completed"
    },
    "tags": []
   },
   "outputs": [
    {
     "data": {
      "text/html": [
       "<div>\n",
       "<style scoped>\n",
       "    .dataframe tbody tr th:only-of-type {\n",
       "        vertical-align: middle;\n",
       "    }\n",
       "\n",
       "    .dataframe tbody tr th {\n",
       "        vertical-align: top;\n",
       "    }\n",
       "\n",
       "    .dataframe thead th {\n",
       "        text-align: right;\n",
       "    }\n",
       "</style>\n",
       "<table border=\"1\" class=\"dataframe\">\n",
       "  <thead>\n",
       "    <tr style=\"text-align: right;\">\n",
       "      <th></th>\n",
       "      <th>Survived</th>\n",
       "      <th>Pclass</th>\n",
       "      <th>Name</th>\n",
       "      <th>Sex</th>\n",
       "      <th>Age</th>\n",
       "      <th>SibSp</th>\n",
       "      <th>Parch</th>\n",
       "      <th>Ticket</th>\n",
       "      <th>Fare</th>\n",
       "      <th>Cabin</th>\n",
       "      <th>Embarked</th>\n",
       "      <th>data_type</th>\n",
       "    </tr>\n",
       "    <tr>\n",
       "      <th>PassengerId</th>\n",
       "      <th></th>\n",
       "      <th></th>\n",
       "      <th></th>\n",
       "      <th></th>\n",
       "      <th></th>\n",
       "      <th></th>\n",
       "      <th></th>\n",
       "      <th></th>\n",
       "      <th></th>\n",
       "      <th></th>\n",
       "      <th></th>\n",
       "      <th></th>\n",
       "    </tr>\n",
       "  </thead>\n",
       "  <tbody>\n",
       "    <tr>\n",
       "      <th>290</th>\n",
       "      <td>1.0</td>\n",
       "      <td>3</td>\n",
       "      <td>Connolly, Miss. Kate</td>\n",
       "      <td>female</td>\n",
       "      <td>22.0</td>\n",
       "      <td>0</td>\n",
       "      <td>0</td>\n",
       "      <td>370373</td>\n",
       "      <td>7.7500</td>\n",
       "      <td>NaN</td>\n",
       "      <td>Q</td>\n",
       "      <td>train</td>\n",
       "    </tr>\n",
       "    <tr>\n",
       "      <th>898</th>\n",
       "      <td>NaN</td>\n",
       "      <td>3</td>\n",
       "      <td>Connolly, Miss. Kate</td>\n",
       "      <td>female</td>\n",
       "      <td>30.0</td>\n",
       "      <td>0</td>\n",
       "      <td>0</td>\n",
       "      <td>330972</td>\n",
       "      <td>7.6292</td>\n",
       "      <td>NaN</td>\n",
       "      <td>Q</td>\n",
       "      <td>test</td>\n",
       "    </tr>\n",
       "    <tr>\n",
       "      <th>697</th>\n",
       "      <td>0.0</td>\n",
       "      <td>3</td>\n",
       "      <td>Kelly, Mr. James</td>\n",
       "      <td>male</td>\n",
       "      <td>44.0</td>\n",
       "      <td>0</td>\n",
       "      <td>0</td>\n",
       "      <td>363592</td>\n",
       "      <td>8.0500</td>\n",
       "      <td>NaN</td>\n",
       "      <td>S</td>\n",
       "      <td>train</td>\n",
       "    </tr>\n",
       "    <tr>\n",
       "      <th>892</th>\n",
       "      <td>NaN</td>\n",
       "      <td>3</td>\n",
       "      <td>Kelly, Mr. James</td>\n",
       "      <td>male</td>\n",
       "      <td>34.5</td>\n",
       "      <td>0</td>\n",
       "      <td>0</td>\n",
       "      <td>330911</td>\n",
       "      <td>7.8292</td>\n",
       "      <td>NaN</td>\n",
       "      <td>Q</td>\n",
       "      <td>test</td>\n",
       "    </tr>\n",
       "  </tbody>\n",
       "</table>\n",
       "</div>"
      ],
      "text/plain": [
       "             Survived  Pclass                  Name     Sex   Age  SibSp  \\\n",
       "PassengerId                                                                \n",
       "290               1.0       3  Connolly, Miss. Kate  female  22.0      0   \n",
       "898               NaN       3  Connolly, Miss. Kate  female  30.0      0   \n",
       "697               0.0       3      Kelly, Mr. James    male  44.0      0   \n",
       "892               NaN       3      Kelly, Mr. James    male  34.5      0   \n",
       "\n",
       "             Parch  Ticket    Fare Cabin Embarked data_type  \n",
       "PassengerId                                                  \n",
       "290              0  370373  7.7500   NaN        Q     train  \n",
       "898              0  330972  7.6292   NaN        Q      test  \n",
       "697              0  363592  8.0500   NaN        S     train  \n",
       "892              0  330911  7.8292   NaN        Q      test  "
      ]
     },
     "execution_count": 11,
     "metadata": {},
     "output_type": "execute_result"
    }
   ],
   "source": [
    "df[(df[\"Name\"] == \"Connolly, Miss. Kate\") | (df[\"Name\"] == \"Kelly, Mr. James\")].sort_values(\"Name\")"
   ]
  },
  {
   "cell_type": "markdown",
   "id": "6300133e",
   "metadata": {
    "papermill": {
     "duration": 0.024423,
     "end_time": "2024-02-03T02:59:16.400758",
     "exception": false,
     "start_time": "2024-02-03T02:59:16.376335",
     "status": "completed"
    },
    "tags": []
   },
   "source": [
    "With only this context, we can't conclude if these rows are wrong or not. But we can see that one row for every name is part of the `train` data frame and the other one is part of the `test` data frame and that their columns are similar. So it is possible that **these rows were slightly modified for the purpose of creating the test data frame**.\n",
    "\n",
    "- There are rows without an `Embarked` value.\n",
    "\n",
    "Let's explore these rows:"
   ]
  },
  {
   "cell_type": "code",
   "execution_count": 12,
   "id": "aeb63b7e",
   "metadata": {
    "execution": {
     "iopub.execute_input": "2024-02-03T02:59:16.452222Z",
     "iopub.status.busy": "2024-02-03T02:59:16.451768Z",
     "iopub.status.idle": "2024-02-03T02:59:16.469835Z",
     "shell.execute_reply": "2024-02-03T02:59:16.469048Z"
    },
    "papermill": {
     "duration": 0.046638,
     "end_time": "2024-02-03T02:59:16.472249",
     "exception": false,
     "start_time": "2024-02-03T02:59:16.425611",
     "status": "completed"
    },
    "tags": []
   },
   "outputs": [
    {
     "data": {
      "text/html": [
       "<div>\n",
       "<style scoped>\n",
       "    .dataframe tbody tr th:only-of-type {\n",
       "        vertical-align: middle;\n",
       "    }\n",
       "\n",
       "    .dataframe tbody tr th {\n",
       "        vertical-align: top;\n",
       "    }\n",
       "\n",
       "    .dataframe thead th {\n",
       "        text-align: right;\n",
       "    }\n",
       "</style>\n",
       "<table border=\"1\" class=\"dataframe\">\n",
       "  <thead>\n",
       "    <tr style=\"text-align: right;\">\n",
       "      <th></th>\n",
       "      <th>Survived</th>\n",
       "      <th>Pclass</th>\n",
       "      <th>Name</th>\n",
       "      <th>Sex</th>\n",
       "      <th>Age</th>\n",
       "      <th>SibSp</th>\n",
       "      <th>Parch</th>\n",
       "      <th>Ticket</th>\n",
       "      <th>Fare</th>\n",
       "      <th>Cabin</th>\n",
       "      <th>Embarked</th>\n",
       "      <th>data_type</th>\n",
       "    </tr>\n",
       "    <tr>\n",
       "      <th>PassengerId</th>\n",
       "      <th></th>\n",
       "      <th></th>\n",
       "      <th></th>\n",
       "      <th></th>\n",
       "      <th></th>\n",
       "      <th></th>\n",
       "      <th></th>\n",
       "      <th></th>\n",
       "      <th></th>\n",
       "      <th></th>\n",
       "      <th></th>\n",
       "      <th></th>\n",
       "    </tr>\n",
       "  </thead>\n",
       "  <tbody>\n",
       "    <tr>\n",
       "      <th>62</th>\n",
       "      <td>1.0</td>\n",
       "      <td>1</td>\n",
       "      <td>Icard, Miss. Amelie</td>\n",
       "      <td>female</td>\n",
       "      <td>38.0</td>\n",
       "      <td>0</td>\n",
       "      <td>0</td>\n",
       "      <td>113572</td>\n",
       "      <td>80.0</td>\n",
       "      <td>B28</td>\n",
       "      <td>NaN</td>\n",
       "      <td>train</td>\n",
       "    </tr>\n",
       "    <tr>\n",
       "      <th>830</th>\n",
       "      <td>1.0</td>\n",
       "      <td>1</td>\n",
       "      <td>Stone, Mrs. George Nelson (Martha Evelyn)</td>\n",
       "      <td>female</td>\n",
       "      <td>62.0</td>\n",
       "      <td>0</td>\n",
       "      <td>0</td>\n",
       "      <td>113572</td>\n",
       "      <td>80.0</td>\n",
       "      <td>B28</td>\n",
       "      <td>NaN</td>\n",
       "      <td>train</td>\n",
       "    </tr>\n",
       "  </tbody>\n",
       "</table>\n",
       "</div>"
      ],
      "text/plain": [
       "             Survived  Pclass                                       Name  \\\n",
       "PassengerId                                                                \n",
       "62                1.0       1                        Icard, Miss. Amelie   \n",
       "830               1.0       1  Stone, Mrs. George Nelson (Martha Evelyn)   \n",
       "\n",
       "                Sex   Age  SibSp  Parch  Ticket  Fare Cabin Embarked data_type  \n",
       "PassengerId                                                                     \n",
       "62           female  38.0      0      0  113572  80.0   B28      NaN     train  \n",
       "830          female  62.0      0      0  113572  80.0   B28      NaN     train  "
      ]
     },
     "execution_count": 12,
     "metadata": {},
     "output_type": "execute_result"
    }
   ],
   "source": [
    "df[df[\"Embarked\"].isna()]"
   ]
  },
  {
   "cell_type": "markdown",
   "id": "c1269b5c",
   "metadata": {
    "papermill": {
     "duration": 0.024883,
     "end_time": "2024-02-03T02:59:16.522413",
     "exception": false,
     "start_time": "2024-02-03T02:59:16.497530",
     "status": "completed"
    },
    "tags": []
   },
   "source": [
    "We can see that these women where sharing the same cabin on first class.\n",
    "\n",
    "Let's explore if this cabin where shared by other people."
   ]
  },
  {
   "cell_type": "code",
   "execution_count": 13,
   "id": "0384cd4b",
   "metadata": {
    "execution": {
     "iopub.execute_input": "2024-02-03T02:59:16.574661Z",
     "iopub.status.busy": "2024-02-03T02:59:16.573861Z",
     "iopub.status.idle": "2024-02-03T02:59:16.592062Z",
     "shell.execute_reply": "2024-02-03T02:59:16.590896Z"
    },
    "papermill": {
     "duration": 0.046898,
     "end_time": "2024-02-03T02:59:16.594427",
     "exception": false,
     "start_time": "2024-02-03T02:59:16.547529",
     "status": "completed"
    },
    "tags": []
   },
   "outputs": [
    {
     "data": {
      "text/html": [
       "<div>\n",
       "<style scoped>\n",
       "    .dataframe tbody tr th:only-of-type {\n",
       "        vertical-align: middle;\n",
       "    }\n",
       "\n",
       "    .dataframe tbody tr th {\n",
       "        vertical-align: top;\n",
       "    }\n",
       "\n",
       "    .dataframe thead th {\n",
       "        text-align: right;\n",
       "    }\n",
       "</style>\n",
       "<table border=\"1\" class=\"dataframe\">\n",
       "  <thead>\n",
       "    <tr style=\"text-align: right;\">\n",
       "      <th></th>\n",
       "      <th>Survived</th>\n",
       "      <th>Pclass</th>\n",
       "      <th>Name</th>\n",
       "      <th>Sex</th>\n",
       "      <th>Age</th>\n",
       "      <th>SibSp</th>\n",
       "      <th>Parch</th>\n",
       "      <th>Ticket</th>\n",
       "      <th>Fare</th>\n",
       "      <th>Cabin</th>\n",
       "      <th>Embarked</th>\n",
       "      <th>data_type</th>\n",
       "    </tr>\n",
       "    <tr>\n",
       "      <th>PassengerId</th>\n",
       "      <th></th>\n",
       "      <th></th>\n",
       "      <th></th>\n",
       "      <th></th>\n",
       "      <th></th>\n",
       "      <th></th>\n",
       "      <th></th>\n",
       "      <th></th>\n",
       "      <th></th>\n",
       "      <th></th>\n",
       "      <th></th>\n",
       "      <th></th>\n",
       "    </tr>\n",
       "  </thead>\n",
       "  <tbody>\n",
       "    <tr>\n",
       "      <th>62</th>\n",
       "      <td>1.0</td>\n",
       "      <td>1</td>\n",
       "      <td>Icard, Miss. Amelie</td>\n",
       "      <td>female</td>\n",
       "      <td>38.0</td>\n",
       "      <td>0</td>\n",
       "      <td>0</td>\n",
       "      <td>113572</td>\n",
       "      <td>80.0</td>\n",
       "      <td>B28</td>\n",
       "      <td>NaN</td>\n",
       "      <td>train</td>\n",
       "    </tr>\n",
       "    <tr>\n",
       "      <th>830</th>\n",
       "      <td>1.0</td>\n",
       "      <td>1</td>\n",
       "      <td>Stone, Mrs. George Nelson (Martha Evelyn)</td>\n",
       "      <td>female</td>\n",
       "      <td>62.0</td>\n",
       "      <td>0</td>\n",
       "      <td>0</td>\n",
       "      <td>113572</td>\n",
       "      <td>80.0</td>\n",
       "      <td>B28</td>\n",
       "      <td>NaN</td>\n",
       "      <td>train</td>\n",
       "    </tr>\n",
       "  </tbody>\n",
       "</table>\n",
       "</div>"
      ],
      "text/plain": [
       "             Survived  Pclass                                       Name  \\\n",
       "PassengerId                                                                \n",
       "62                1.0       1                        Icard, Miss. Amelie   \n",
       "830               1.0       1  Stone, Mrs. George Nelson (Martha Evelyn)   \n",
       "\n",
       "                Sex   Age  SibSp  Parch  Ticket  Fare Cabin Embarked data_type  \n",
       "PassengerId                                                                     \n",
       "62           female  38.0      0      0  113572  80.0   B28      NaN     train  \n",
       "830          female  62.0      0      0  113572  80.0   B28      NaN     train  "
      ]
     },
     "execution_count": 13,
     "metadata": {},
     "output_type": "execute_result"
    }
   ],
   "source": [
    "df[df[\"Cabin\"] == \"B28\"]"
   ]
  },
  {
   "cell_type": "markdown",
   "id": "37340e03",
   "metadata": {
    "papermill": {
     "duration": 0.0267,
     "end_time": "2024-02-03T02:59:16.646567",
     "exception": false,
     "start_time": "2024-02-03T02:59:16.619867",
     "status": "completed"
    },
    "tags": []
   },
   "source": [
    "No other people where sharing this cabin. So we can think in another way to impute this value. For example, **taking the mode value of the column**.\n",
    "\n",
    "- There are repeated `Ticket` values.\n",
    "\n",
    "Let's group this column to explore which tickets are repeated."
   ]
  },
  {
   "cell_type": "code",
   "execution_count": 14,
   "id": "8d5bff04",
   "metadata": {
    "execution": {
     "iopub.execute_input": "2024-02-03T02:59:16.713606Z",
     "iopub.status.busy": "2024-02-03T02:59:16.712821Z",
     "iopub.status.idle": "2024-02-03T02:59:16.729267Z",
     "shell.execute_reply": "2024-02-03T02:59:16.728119Z"
    },
    "papermill": {
     "duration": 0.053477,
     "end_time": "2024-02-03T02:59:16.731828",
     "exception": false,
     "start_time": "2024-02-03T02:59:16.678351",
     "status": "completed"
    },
    "tags": []
   },
   "outputs": [
    {
     "data": {
      "text/html": [
       "<div>\n",
       "<style scoped>\n",
       "    .dataframe tbody tr th:only-of-type {\n",
       "        vertical-align: middle;\n",
       "    }\n",
       "\n",
       "    .dataframe tbody tr th {\n",
       "        vertical-align: top;\n",
       "    }\n",
       "\n",
       "    .dataframe thead th {\n",
       "        text-align: right;\n",
       "    }\n",
       "</style>\n",
       "<table border=\"1\" class=\"dataframe\">\n",
       "  <thead>\n",
       "    <tr style=\"text-align: right;\">\n",
       "      <th></th>\n",
       "      <th>Ticket</th>\n",
       "      <th>size</th>\n",
       "    </tr>\n",
       "  </thead>\n",
       "  <tbody>\n",
       "    <tr>\n",
       "      <th>778</th>\n",
       "      <td>CA. 2343</td>\n",
       "      <td>11</td>\n",
       "    </tr>\n",
       "    <tr>\n",
       "      <th>104</th>\n",
       "      <td>1601</td>\n",
       "      <td>8</td>\n",
       "    </tr>\n",
       "    <tr>\n",
       "      <th>775</th>\n",
       "      <td>CA 2144</td>\n",
       "      <td>8</td>\n",
       "    </tr>\n",
       "    <tr>\n",
       "      <th>335</th>\n",
       "      <td>3101295</td>\n",
       "      <td>7</td>\n",
       "    </tr>\n",
       "    <tr>\n",
       "      <th>454</th>\n",
       "      <td>347077</td>\n",
       "      <td>7</td>\n",
       "    </tr>\n",
       "    <tr>\n",
       "      <th>...</th>\n",
       "      <td>...</td>\n",
       "      <td>...</td>\n",
       "    </tr>\n",
       "    <tr>\n",
       "      <th>407</th>\n",
       "      <td>342826</td>\n",
       "      <td>1</td>\n",
       "    </tr>\n",
       "    <tr>\n",
       "      <th>408</th>\n",
       "      <td>343095</td>\n",
       "      <td>1</td>\n",
       "    </tr>\n",
       "    <tr>\n",
       "      <th>409</th>\n",
       "      <td>343120</td>\n",
       "      <td>1</td>\n",
       "    </tr>\n",
       "    <tr>\n",
       "      <th>410</th>\n",
       "      <td>343271</td>\n",
       "      <td>1</td>\n",
       "    </tr>\n",
       "    <tr>\n",
       "      <th>506</th>\n",
       "      <td>349223</td>\n",
       "      <td>1</td>\n",
       "    </tr>\n",
       "  </tbody>\n",
       "</table>\n",
       "<p>929 rows × 2 columns</p>\n",
       "</div>"
      ],
      "text/plain": [
       "       Ticket  size\n",
       "778  CA. 2343    11\n",
       "104      1601     8\n",
       "775   CA 2144     8\n",
       "335   3101295     7\n",
       "454    347077     7\n",
       "..        ...   ...\n",
       "407    342826     1\n",
       "408    343095     1\n",
       "409    343120     1\n",
       "410    343271     1\n",
       "506    349223     1\n",
       "\n",
       "[929 rows x 2 columns]"
      ]
     },
     "execution_count": 14,
     "metadata": {},
     "output_type": "execute_result"
    }
   ],
   "source": [
    "df.groupby(\"Ticket\", as_index=False).size().sort_values(\"size\", ascending=False)"
   ]
  },
  {
   "cell_type": "markdown",
   "id": "288d436e",
   "metadata": {
    "papermill": {
     "duration": 0.034473,
     "end_time": "2024-02-03T02:59:16.800329",
     "exception": false,
     "start_time": "2024-02-03T02:59:16.765856",
     "status": "completed"
    },
    "tags": []
   },
   "source": [
    "Let's explore the most repeated ticket to see if a relationship between these passengers exists."
   ]
  },
  {
   "cell_type": "code",
   "execution_count": 15,
   "id": "d59f77b4",
   "metadata": {
    "execution": {
     "iopub.execute_input": "2024-02-03T02:59:16.862233Z",
     "iopub.status.busy": "2024-02-03T02:59:16.861754Z",
     "iopub.status.idle": "2024-02-03T02:59:16.884582Z",
     "shell.execute_reply": "2024-02-03T02:59:16.883694Z"
    },
    "papermill": {
     "duration": 0.053711,
     "end_time": "2024-02-03T02:59:16.886971",
     "exception": false,
     "start_time": "2024-02-03T02:59:16.833260",
     "status": "completed"
    },
    "tags": []
   },
   "outputs": [
    {
     "data": {
      "text/html": [
       "<div>\n",
       "<style scoped>\n",
       "    .dataframe tbody tr th:only-of-type {\n",
       "        vertical-align: middle;\n",
       "    }\n",
       "\n",
       "    .dataframe tbody tr th {\n",
       "        vertical-align: top;\n",
       "    }\n",
       "\n",
       "    .dataframe thead th {\n",
       "        text-align: right;\n",
       "    }\n",
       "</style>\n",
       "<table border=\"1\" class=\"dataframe\">\n",
       "  <thead>\n",
       "    <tr style=\"text-align: right;\">\n",
       "      <th></th>\n",
       "      <th>Survived</th>\n",
       "      <th>Pclass</th>\n",
       "      <th>Name</th>\n",
       "      <th>Sex</th>\n",
       "      <th>Age</th>\n",
       "      <th>SibSp</th>\n",
       "      <th>Parch</th>\n",
       "      <th>Ticket</th>\n",
       "      <th>Fare</th>\n",
       "      <th>Cabin</th>\n",
       "      <th>Embarked</th>\n",
       "      <th>data_type</th>\n",
       "    </tr>\n",
       "    <tr>\n",
       "      <th>PassengerId</th>\n",
       "      <th></th>\n",
       "      <th></th>\n",
       "      <th></th>\n",
       "      <th></th>\n",
       "      <th></th>\n",
       "      <th></th>\n",
       "      <th></th>\n",
       "      <th></th>\n",
       "      <th></th>\n",
       "      <th></th>\n",
       "      <th></th>\n",
       "      <th></th>\n",
       "    </tr>\n",
       "  </thead>\n",
       "  <tbody>\n",
       "    <tr>\n",
       "      <th>160</th>\n",
       "      <td>0.0</td>\n",
       "      <td>3</td>\n",
       "      <td>Sage, Master. Thomas Henry</td>\n",
       "      <td>male</td>\n",
       "      <td>NaN</td>\n",
       "      <td>8</td>\n",
       "      <td>2</td>\n",
       "      <td>CA. 2343</td>\n",
       "      <td>69.55</td>\n",
       "      <td>NaN</td>\n",
       "      <td>S</td>\n",
       "      <td>train</td>\n",
       "    </tr>\n",
       "    <tr>\n",
       "      <th>181</th>\n",
       "      <td>0.0</td>\n",
       "      <td>3</td>\n",
       "      <td>Sage, Miss. Constance Gladys</td>\n",
       "      <td>female</td>\n",
       "      <td>NaN</td>\n",
       "      <td>8</td>\n",
       "      <td>2</td>\n",
       "      <td>CA. 2343</td>\n",
       "      <td>69.55</td>\n",
       "      <td>NaN</td>\n",
       "      <td>S</td>\n",
       "      <td>train</td>\n",
       "    </tr>\n",
       "    <tr>\n",
       "      <th>202</th>\n",
       "      <td>0.0</td>\n",
       "      <td>3</td>\n",
       "      <td>Sage, Mr. Frederick</td>\n",
       "      <td>male</td>\n",
       "      <td>NaN</td>\n",
       "      <td>8</td>\n",
       "      <td>2</td>\n",
       "      <td>CA. 2343</td>\n",
       "      <td>69.55</td>\n",
       "      <td>NaN</td>\n",
       "      <td>S</td>\n",
       "      <td>train</td>\n",
       "    </tr>\n",
       "    <tr>\n",
       "      <th>325</th>\n",
       "      <td>0.0</td>\n",
       "      <td>3</td>\n",
       "      <td>Sage, Mr. George John Jr</td>\n",
       "      <td>male</td>\n",
       "      <td>NaN</td>\n",
       "      <td>8</td>\n",
       "      <td>2</td>\n",
       "      <td>CA. 2343</td>\n",
       "      <td>69.55</td>\n",
       "      <td>NaN</td>\n",
       "      <td>S</td>\n",
       "      <td>train</td>\n",
       "    </tr>\n",
       "    <tr>\n",
       "      <th>793</th>\n",
       "      <td>0.0</td>\n",
       "      <td>3</td>\n",
       "      <td>Sage, Miss. Stella Anna</td>\n",
       "      <td>female</td>\n",
       "      <td>NaN</td>\n",
       "      <td>8</td>\n",
       "      <td>2</td>\n",
       "      <td>CA. 2343</td>\n",
       "      <td>69.55</td>\n",
       "      <td>NaN</td>\n",
       "      <td>S</td>\n",
       "      <td>train</td>\n",
       "    </tr>\n",
       "    <tr>\n",
       "      <th>847</th>\n",
       "      <td>0.0</td>\n",
       "      <td>3</td>\n",
       "      <td>Sage, Mr. Douglas Bullen</td>\n",
       "      <td>male</td>\n",
       "      <td>NaN</td>\n",
       "      <td>8</td>\n",
       "      <td>2</td>\n",
       "      <td>CA. 2343</td>\n",
       "      <td>69.55</td>\n",
       "      <td>NaN</td>\n",
       "      <td>S</td>\n",
       "      <td>train</td>\n",
       "    </tr>\n",
       "    <tr>\n",
       "      <th>864</th>\n",
       "      <td>0.0</td>\n",
       "      <td>3</td>\n",
       "      <td>Sage, Miss. Dorothy Edith \"Dolly\"</td>\n",
       "      <td>female</td>\n",
       "      <td>NaN</td>\n",
       "      <td>8</td>\n",
       "      <td>2</td>\n",
       "      <td>CA. 2343</td>\n",
       "      <td>69.55</td>\n",
       "      <td>NaN</td>\n",
       "      <td>S</td>\n",
       "      <td>train</td>\n",
       "    </tr>\n",
       "    <tr>\n",
       "      <th>1080</th>\n",
       "      <td>NaN</td>\n",
       "      <td>3</td>\n",
       "      <td>Sage, Miss. Ada</td>\n",
       "      <td>female</td>\n",
       "      <td>NaN</td>\n",
       "      <td>8</td>\n",
       "      <td>2</td>\n",
       "      <td>CA. 2343</td>\n",
       "      <td>69.55</td>\n",
       "      <td>NaN</td>\n",
       "      <td>S</td>\n",
       "      <td>test</td>\n",
       "    </tr>\n",
       "    <tr>\n",
       "      <th>1234</th>\n",
       "      <td>NaN</td>\n",
       "      <td>3</td>\n",
       "      <td>Sage, Mr. John George</td>\n",
       "      <td>male</td>\n",
       "      <td>NaN</td>\n",
       "      <td>1</td>\n",
       "      <td>9</td>\n",
       "      <td>CA. 2343</td>\n",
       "      <td>69.55</td>\n",
       "      <td>NaN</td>\n",
       "      <td>S</td>\n",
       "      <td>test</td>\n",
       "    </tr>\n",
       "    <tr>\n",
       "      <th>1252</th>\n",
       "      <td>NaN</td>\n",
       "      <td>3</td>\n",
       "      <td>Sage, Master. William Henry</td>\n",
       "      <td>male</td>\n",
       "      <td>14.5</td>\n",
       "      <td>8</td>\n",
       "      <td>2</td>\n",
       "      <td>CA. 2343</td>\n",
       "      <td>69.55</td>\n",
       "      <td>NaN</td>\n",
       "      <td>S</td>\n",
       "      <td>test</td>\n",
       "    </tr>\n",
       "    <tr>\n",
       "      <th>1257</th>\n",
       "      <td>NaN</td>\n",
       "      <td>3</td>\n",
       "      <td>Sage, Mrs. John (Annie Bullen)</td>\n",
       "      <td>female</td>\n",
       "      <td>NaN</td>\n",
       "      <td>1</td>\n",
       "      <td>9</td>\n",
       "      <td>CA. 2343</td>\n",
       "      <td>69.55</td>\n",
       "      <td>NaN</td>\n",
       "      <td>S</td>\n",
       "      <td>test</td>\n",
       "    </tr>\n",
       "  </tbody>\n",
       "</table>\n",
       "</div>"
      ],
      "text/plain": [
       "             Survived  Pclass                               Name     Sex  \\\n",
       "PassengerId                                                                \n",
       "160               0.0       3         Sage, Master. Thomas Henry    male   \n",
       "181               0.0       3       Sage, Miss. Constance Gladys  female   \n",
       "202               0.0       3                Sage, Mr. Frederick    male   \n",
       "325               0.0       3           Sage, Mr. George John Jr    male   \n",
       "793               0.0       3            Sage, Miss. Stella Anna  female   \n",
       "847               0.0       3           Sage, Mr. Douglas Bullen    male   \n",
       "864               0.0       3  Sage, Miss. Dorothy Edith \"Dolly\"  female   \n",
       "1080              NaN       3                    Sage, Miss. Ada  female   \n",
       "1234              NaN       3              Sage, Mr. John George    male   \n",
       "1252              NaN       3        Sage, Master. William Henry    male   \n",
       "1257              NaN       3     Sage, Mrs. John (Annie Bullen)  female   \n",
       "\n",
       "              Age  SibSp  Parch    Ticket   Fare Cabin Embarked data_type  \n",
       "PassengerId                                                                \n",
       "160           NaN      8      2  CA. 2343  69.55   NaN        S     train  \n",
       "181           NaN      8      2  CA. 2343  69.55   NaN        S     train  \n",
       "202           NaN      8      2  CA. 2343  69.55   NaN        S     train  \n",
       "325           NaN      8      2  CA. 2343  69.55   NaN        S     train  \n",
       "793           NaN      8      2  CA. 2343  69.55   NaN        S     train  \n",
       "847           NaN      8      2  CA. 2343  69.55   NaN        S     train  \n",
       "864           NaN      8      2  CA. 2343  69.55   NaN        S     train  \n",
       "1080          NaN      8      2  CA. 2343  69.55   NaN        S      test  \n",
       "1234          NaN      1      9  CA. 2343  69.55   NaN        S      test  \n",
       "1252         14.5      8      2  CA. 2343  69.55   NaN        S      test  \n",
       "1257          NaN      1      9  CA. 2343  69.55   NaN        S      test  "
      ]
     },
     "execution_count": 15,
     "metadata": {},
     "output_type": "execute_result"
    }
   ],
   "source": [
    "df[df[\"Ticket\"] == \"CA. 2343\"]"
   ]
  },
  {
   "cell_type": "markdown",
   "id": "8da67551",
   "metadata": {
    "papermill": {
     "duration": 0.026151,
     "end_time": "2024-02-03T02:59:16.939694",
     "exception": false,
     "start_time": "2024-02-03T02:59:16.913543",
     "status": "completed"
    },
    "tags": []
   },
   "source": [
    "We can see that all the people on this cabin shared the last name *Sage*. Also, their `SibSp` and `Parch` values are not null, and many of them have the same values. Note that **none of them survived the shipwreck**.\n",
    "\n",
    "Let's explore the other most repeated ticket:"
   ]
  },
  {
   "cell_type": "code",
   "execution_count": 16,
   "id": "1f599115",
   "metadata": {
    "execution": {
     "iopub.execute_input": "2024-02-03T02:59:16.994818Z",
     "iopub.status.busy": "2024-02-03T02:59:16.994144Z",
     "iopub.status.idle": "2024-02-03T02:59:17.014998Z",
     "shell.execute_reply": "2024-02-03T02:59:17.013852Z"
    },
    "papermill": {
     "duration": 0.051096,
     "end_time": "2024-02-03T02:59:17.017447",
     "exception": false,
     "start_time": "2024-02-03T02:59:16.966351",
     "status": "completed"
    },
    "tags": []
   },
   "outputs": [
    {
     "data": {
      "text/html": [
       "<div>\n",
       "<style scoped>\n",
       "    .dataframe tbody tr th:only-of-type {\n",
       "        vertical-align: middle;\n",
       "    }\n",
       "\n",
       "    .dataframe tbody tr th {\n",
       "        vertical-align: top;\n",
       "    }\n",
       "\n",
       "    .dataframe thead th {\n",
       "        text-align: right;\n",
       "    }\n",
       "</style>\n",
       "<table border=\"1\" class=\"dataframe\">\n",
       "  <thead>\n",
       "    <tr style=\"text-align: right;\">\n",
       "      <th></th>\n",
       "      <th>Survived</th>\n",
       "      <th>Pclass</th>\n",
       "      <th>Name</th>\n",
       "      <th>Sex</th>\n",
       "      <th>Age</th>\n",
       "      <th>SibSp</th>\n",
       "      <th>Parch</th>\n",
       "      <th>Ticket</th>\n",
       "      <th>Fare</th>\n",
       "      <th>Cabin</th>\n",
       "      <th>Embarked</th>\n",
       "      <th>data_type</th>\n",
       "    </tr>\n",
       "    <tr>\n",
       "      <th>PassengerId</th>\n",
       "      <th></th>\n",
       "      <th></th>\n",
       "      <th></th>\n",
       "      <th></th>\n",
       "      <th></th>\n",
       "      <th></th>\n",
       "      <th></th>\n",
       "      <th></th>\n",
       "      <th></th>\n",
       "      <th></th>\n",
       "      <th></th>\n",
       "      <th></th>\n",
       "    </tr>\n",
       "  </thead>\n",
       "  <tbody>\n",
       "    <tr>\n",
       "      <th>75</th>\n",
       "      <td>1.0</td>\n",
       "      <td>3</td>\n",
       "      <td>Bing, Mr. Lee</td>\n",
       "      <td>male</td>\n",
       "      <td>32.0</td>\n",
       "      <td>0</td>\n",
       "      <td>0</td>\n",
       "      <td>1601</td>\n",
       "      <td>56.4958</td>\n",
       "      <td>NaN</td>\n",
       "      <td>S</td>\n",
       "      <td>train</td>\n",
       "    </tr>\n",
       "    <tr>\n",
       "      <th>170</th>\n",
       "      <td>0.0</td>\n",
       "      <td>3</td>\n",
       "      <td>Ling, Mr. Lee</td>\n",
       "      <td>male</td>\n",
       "      <td>28.0</td>\n",
       "      <td>0</td>\n",
       "      <td>0</td>\n",
       "      <td>1601</td>\n",
       "      <td>56.4958</td>\n",
       "      <td>NaN</td>\n",
       "      <td>S</td>\n",
       "      <td>train</td>\n",
       "    </tr>\n",
       "    <tr>\n",
       "      <th>510</th>\n",
       "      <td>1.0</td>\n",
       "      <td>3</td>\n",
       "      <td>Lang, Mr. Fang</td>\n",
       "      <td>male</td>\n",
       "      <td>26.0</td>\n",
       "      <td>0</td>\n",
       "      <td>0</td>\n",
       "      <td>1601</td>\n",
       "      <td>56.4958</td>\n",
       "      <td>NaN</td>\n",
       "      <td>S</td>\n",
       "      <td>train</td>\n",
       "    </tr>\n",
       "    <tr>\n",
       "      <th>644</th>\n",
       "      <td>1.0</td>\n",
       "      <td>3</td>\n",
       "      <td>Foo, Mr. Choong</td>\n",
       "      <td>male</td>\n",
       "      <td>NaN</td>\n",
       "      <td>0</td>\n",
       "      <td>0</td>\n",
       "      <td>1601</td>\n",
       "      <td>56.4958</td>\n",
       "      <td>NaN</td>\n",
       "      <td>S</td>\n",
       "      <td>train</td>\n",
       "    </tr>\n",
       "    <tr>\n",
       "      <th>693</th>\n",
       "      <td>1.0</td>\n",
       "      <td>3</td>\n",
       "      <td>Lam, Mr. Ali</td>\n",
       "      <td>male</td>\n",
       "      <td>NaN</td>\n",
       "      <td>0</td>\n",
       "      <td>0</td>\n",
       "      <td>1601</td>\n",
       "      <td>56.4958</td>\n",
       "      <td>NaN</td>\n",
       "      <td>S</td>\n",
       "      <td>train</td>\n",
       "    </tr>\n",
       "    <tr>\n",
       "      <th>827</th>\n",
       "      <td>0.0</td>\n",
       "      <td>3</td>\n",
       "      <td>Lam, Mr. Len</td>\n",
       "      <td>male</td>\n",
       "      <td>NaN</td>\n",
       "      <td>0</td>\n",
       "      <td>0</td>\n",
       "      <td>1601</td>\n",
       "      <td>56.4958</td>\n",
       "      <td>NaN</td>\n",
       "      <td>S</td>\n",
       "      <td>train</td>\n",
       "    </tr>\n",
       "    <tr>\n",
       "      <th>839</th>\n",
       "      <td>1.0</td>\n",
       "      <td>3</td>\n",
       "      <td>Chip, Mr. Chang</td>\n",
       "      <td>male</td>\n",
       "      <td>32.0</td>\n",
       "      <td>0</td>\n",
       "      <td>0</td>\n",
       "      <td>1601</td>\n",
       "      <td>56.4958</td>\n",
       "      <td>NaN</td>\n",
       "      <td>S</td>\n",
       "      <td>train</td>\n",
       "    </tr>\n",
       "    <tr>\n",
       "      <th>931</th>\n",
       "      <td>NaN</td>\n",
       "      <td>3</td>\n",
       "      <td>Hee, Mr. Ling</td>\n",
       "      <td>male</td>\n",
       "      <td>NaN</td>\n",
       "      <td>0</td>\n",
       "      <td>0</td>\n",
       "      <td>1601</td>\n",
       "      <td>56.4958</td>\n",
       "      <td>NaN</td>\n",
       "      <td>S</td>\n",
       "      <td>test</td>\n",
       "    </tr>\n",
       "  </tbody>\n",
       "</table>\n",
       "</div>"
      ],
      "text/plain": [
       "             Survived  Pclass             Name   Sex   Age  SibSp  Parch  \\\n",
       "PassengerId                                                                \n",
       "75                1.0       3    Bing, Mr. Lee  male  32.0      0      0   \n",
       "170               0.0       3    Ling, Mr. Lee  male  28.0      0      0   \n",
       "510               1.0       3   Lang, Mr. Fang  male  26.0      0      0   \n",
       "644               1.0       3  Foo, Mr. Choong  male   NaN      0      0   \n",
       "693               1.0       3     Lam, Mr. Ali  male   NaN      0      0   \n",
       "827               0.0       3     Lam, Mr. Len  male   NaN      0      0   \n",
       "839               1.0       3  Chip, Mr. Chang  male  32.0      0      0   \n",
       "931               NaN       3    Hee, Mr. Ling  male   NaN      0      0   \n",
       "\n",
       "            Ticket     Fare Cabin Embarked data_type  \n",
       "PassengerId                                           \n",
       "75            1601  56.4958   NaN        S     train  \n",
       "170           1601  56.4958   NaN        S     train  \n",
       "510           1601  56.4958   NaN        S     train  \n",
       "644           1601  56.4958   NaN        S     train  \n",
       "693           1601  56.4958   NaN        S     train  \n",
       "827           1601  56.4958   NaN        S     train  \n",
       "839           1601  56.4958   NaN        S     train  \n",
       "931           1601  56.4958   NaN        S      test  "
      ]
     },
     "execution_count": 16,
     "metadata": {},
     "output_type": "execute_result"
    }
   ],
   "source": [
    "df[df[\"Ticket\"] == \"1601\"]"
   ]
  },
  {
   "cell_type": "markdown",
   "id": "79ed1bfb",
   "metadata": {
    "papermill": {
     "duration": 0.032739,
     "end_time": "2024-02-03T02:59:17.077846",
     "exception": false,
     "start_time": "2024-02-03T02:59:17.045107",
     "status": "completed"
    },
    "tags": []
   },
   "source": [
    "Few of those passengers shared the same last name. And both `SibSp` and `Parch` are zero. So we can assume that **it is possible that people with the same ticket were travelling together, but not all of them were family**.\n",
    "\n",
    "- Finally, there are few values registered for the `Cabin` column.\n",
    "\n",
    "Let's explore this column:"
   ]
  },
  {
   "cell_type": "code",
   "execution_count": 17,
   "id": "242de787",
   "metadata": {
    "execution": {
     "iopub.execute_input": "2024-02-03T02:59:17.140315Z",
     "iopub.status.busy": "2024-02-03T02:59:17.139823Z",
     "iopub.status.idle": "2024-02-03T02:59:17.158511Z",
     "shell.execute_reply": "2024-02-03T02:59:17.157630Z"
    },
    "papermill": {
     "duration": 0.050078,
     "end_time": "2024-02-03T02:59:17.160850",
     "exception": false,
     "start_time": "2024-02-03T02:59:17.110772",
     "status": "completed"
    },
    "tags": []
   },
   "outputs": [
    {
     "data": {
      "text/html": [
       "<div>\n",
       "<style scoped>\n",
       "    .dataframe tbody tr th:only-of-type {\n",
       "        vertical-align: middle;\n",
       "    }\n",
       "\n",
       "    .dataframe tbody tr th {\n",
       "        vertical-align: top;\n",
       "    }\n",
       "\n",
       "    .dataframe thead th {\n",
       "        text-align: right;\n",
       "    }\n",
       "</style>\n",
       "<table border=\"1\" class=\"dataframe\">\n",
       "  <thead>\n",
       "    <tr style=\"text-align: right;\">\n",
       "      <th></th>\n",
       "      <th>Cabin</th>\n",
       "      <th>size</th>\n",
       "    </tr>\n",
       "  </thead>\n",
       "  <tbody>\n",
       "    <tr>\n",
       "      <th>80</th>\n",
       "      <td>C23 C25 C27</td>\n",
       "      <td>6</td>\n",
       "    </tr>\n",
       "    <tr>\n",
       "      <th>184</th>\n",
       "      <td>G6</td>\n",
       "      <td>5</td>\n",
       "    </tr>\n",
       "    <tr>\n",
       "      <th>47</th>\n",
       "      <td>B57 B59 B63 B66</td>\n",
       "      <td>5</td>\n",
       "    </tr>\n",
       "    <tr>\n",
       "      <th>60</th>\n",
       "      <td>B96 B98</td>\n",
       "      <td>4</td>\n",
       "    </tr>\n",
       "    <tr>\n",
       "      <th>183</th>\n",
       "      <td>F4</td>\n",
       "      <td>4</td>\n",
       "    </tr>\n",
       "    <tr>\n",
       "      <th>...</th>\n",
       "      <td>...</td>\n",
       "      <td>...</td>\n",
       "    </tr>\n",
       "    <tr>\n",
       "      <th>57</th>\n",
       "      <td>B82 B84</td>\n",
       "      <td>1</td>\n",
       "    </tr>\n",
       "    <tr>\n",
       "      <th>56</th>\n",
       "      <td>B80</td>\n",
       "      <td>1</td>\n",
       "    </tr>\n",
       "    <tr>\n",
       "      <th>55</th>\n",
       "      <td>B79</td>\n",
       "      <td>1</td>\n",
       "    </tr>\n",
       "    <tr>\n",
       "      <th>52</th>\n",
       "      <td>B73</td>\n",
       "      <td>1</td>\n",
       "    </tr>\n",
       "    <tr>\n",
       "      <th>185</th>\n",
       "      <td>T</td>\n",
       "      <td>1</td>\n",
       "    </tr>\n",
       "  </tbody>\n",
       "</table>\n",
       "<p>186 rows × 2 columns</p>\n",
       "</div>"
      ],
      "text/plain": [
       "               Cabin  size\n",
       "80       C23 C25 C27     6\n",
       "184               G6     5\n",
       "47   B57 B59 B63 B66     5\n",
       "60           B96 B98     4\n",
       "183               F4     4\n",
       "..               ...   ...\n",
       "57           B82 B84     1\n",
       "56               B80     1\n",
       "55               B79     1\n",
       "52               B73     1\n",
       "185                T     1\n",
       "\n",
       "[186 rows x 2 columns]"
      ]
     },
     "execution_count": 17,
     "metadata": {},
     "output_type": "execute_result"
    }
   ],
   "source": [
    "df.groupby(\"Cabin\", as_index=False).size().sort_values(\"size\", ascending=False)"
   ]
  },
  {
   "cell_type": "markdown",
   "id": "ac4a35e3",
   "metadata": {
    "papermill": {
     "duration": 0.026923,
     "end_time": "2024-02-03T02:59:17.217118",
     "exception": false,
     "start_time": "2024-02-03T02:59:17.190195",
     "status": "completed"
    },
    "tags": []
   },
   "source": [
    "As with the tickets, **we can assume that people on the same cabin were travelling together**. But let's see if this is true or not for this column:"
   ]
  },
  {
   "cell_type": "code",
   "execution_count": 18,
   "id": "0b88078a",
   "metadata": {
    "execution": {
     "iopub.execute_input": "2024-02-03T02:59:17.273157Z",
     "iopub.status.busy": "2024-02-03T02:59:17.272496Z",
     "iopub.status.idle": "2024-02-03T02:59:17.294437Z",
     "shell.execute_reply": "2024-02-03T02:59:17.293314Z"
    },
    "papermill": {
     "duration": 0.052814,
     "end_time": "2024-02-03T02:59:17.296926",
     "exception": false,
     "start_time": "2024-02-03T02:59:17.244112",
     "status": "completed"
    },
    "tags": []
   },
   "outputs": [
    {
     "data": {
      "text/html": [
       "<div>\n",
       "<style scoped>\n",
       "    .dataframe tbody tr th:only-of-type {\n",
       "        vertical-align: middle;\n",
       "    }\n",
       "\n",
       "    .dataframe tbody tr th {\n",
       "        vertical-align: top;\n",
       "    }\n",
       "\n",
       "    .dataframe thead th {\n",
       "        text-align: right;\n",
       "    }\n",
       "</style>\n",
       "<table border=\"1\" class=\"dataframe\">\n",
       "  <thead>\n",
       "    <tr style=\"text-align: right;\">\n",
       "      <th></th>\n",
       "      <th>Survived</th>\n",
       "      <th>Pclass</th>\n",
       "      <th>Name</th>\n",
       "      <th>Sex</th>\n",
       "      <th>Age</th>\n",
       "      <th>SibSp</th>\n",
       "      <th>Parch</th>\n",
       "      <th>Ticket</th>\n",
       "      <th>Fare</th>\n",
       "      <th>Cabin</th>\n",
       "      <th>Embarked</th>\n",
       "      <th>data_type</th>\n",
       "    </tr>\n",
       "    <tr>\n",
       "      <th>PassengerId</th>\n",
       "      <th></th>\n",
       "      <th></th>\n",
       "      <th></th>\n",
       "      <th></th>\n",
       "      <th></th>\n",
       "      <th></th>\n",
       "      <th></th>\n",
       "      <th></th>\n",
       "      <th></th>\n",
       "      <th></th>\n",
       "      <th></th>\n",
       "      <th></th>\n",
       "    </tr>\n",
       "  </thead>\n",
       "  <tbody>\n",
       "    <tr>\n",
       "      <th>28</th>\n",
       "      <td>0.0</td>\n",
       "      <td>1</td>\n",
       "      <td>Fortune, Mr. Charles Alexander</td>\n",
       "      <td>male</td>\n",
       "      <td>19.0</td>\n",
       "      <td>3</td>\n",
       "      <td>2</td>\n",
       "      <td>19950</td>\n",
       "      <td>263.0</td>\n",
       "      <td>C23 C25 C27</td>\n",
       "      <td>S</td>\n",
       "      <td>train</td>\n",
       "    </tr>\n",
       "    <tr>\n",
       "      <th>89</th>\n",
       "      <td>1.0</td>\n",
       "      <td>1</td>\n",
       "      <td>Fortune, Miss. Mabel Helen</td>\n",
       "      <td>female</td>\n",
       "      <td>23.0</td>\n",
       "      <td>3</td>\n",
       "      <td>2</td>\n",
       "      <td>19950</td>\n",
       "      <td>263.0</td>\n",
       "      <td>C23 C25 C27</td>\n",
       "      <td>S</td>\n",
       "      <td>train</td>\n",
       "    </tr>\n",
       "    <tr>\n",
       "      <th>342</th>\n",
       "      <td>1.0</td>\n",
       "      <td>1</td>\n",
       "      <td>Fortune, Miss. Alice Elizabeth</td>\n",
       "      <td>female</td>\n",
       "      <td>24.0</td>\n",
       "      <td>3</td>\n",
       "      <td>2</td>\n",
       "      <td>19950</td>\n",
       "      <td>263.0</td>\n",
       "      <td>C23 C25 C27</td>\n",
       "      <td>S</td>\n",
       "      <td>train</td>\n",
       "    </tr>\n",
       "    <tr>\n",
       "      <th>439</th>\n",
       "      <td>0.0</td>\n",
       "      <td>1</td>\n",
       "      <td>Fortune, Mr. Mark</td>\n",
       "      <td>male</td>\n",
       "      <td>64.0</td>\n",
       "      <td>1</td>\n",
       "      <td>4</td>\n",
       "      <td>19950</td>\n",
       "      <td>263.0</td>\n",
       "      <td>C23 C25 C27</td>\n",
       "      <td>S</td>\n",
       "      <td>train</td>\n",
       "    </tr>\n",
       "    <tr>\n",
       "      <th>945</th>\n",
       "      <td>NaN</td>\n",
       "      <td>1</td>\n",
       "      <td>Fortune, Miss. Ethel Flora</td>\n",
       "      <td>female</td>\n",
       "      <td>28.0</td>\n",
       "      <td>3</td>\n",
       "      <td>2</td>\n",
       "      <td>19950</td>\n",
       "      <td>263.0</td>\n",
       "      <td>C23 C25 C27</td>\n",
       "      <td>S</td>\n",
       "      <td>test</td>\n",
       "    </tr>\n",
       "    <tr>\n",
       "      <th>961</th>\n",
       "      <td>NaN</td>\n",
       "      <td>1</td>\n",
       "      <td>Fortune, Mrs. Mark (Mary McDougald)</td>\n",
       "      <td>female</td>\n",
       "      <td>60.0</td>\n",
       "      <td>1</td>\n",
       "      <td>4</td>\n",
       "      <td>19950</td>\n",
       "      <td>263.0</td>\n",
       "      <td>C23 C25 C27</td>\n",
       "      <td>S</td>\n",
       "      <td>test</td>\n",
       "    </tr>\n",
       "  </tbody>\n",
       "</table>\n",
       "</div>"
      ],
      "text/plain": [
       "             Survived  Pclass                                 Name     Sex  \\\n",
       "PassengerId                                                                  \n",
       "28                0.0       1       Fortune, Mr. Charles Alexander    male   \n",
       "89                1.0       1           Fortune, Miss. Mabel Helen  female   \n",
       "342               1.0       1       Fortune, Miss. Alice Elizabeth  female   \n",
       "439               0.0       1                    Fortune, Mr. Mark    male   \n",
       "945               NaN       1           Fortune, Miss. Ethel Flora  female   \n",
       "961               NaN       1  Fortune, Mrs. Mark (Mary McDougald)  female   \n",
       "\n",
       "              Age  SibSp  Parch Ticket   Fare        Cabin Embarked data_type  \n",
       "PassengerId                                                                    \n",
       "28           19.0      3      2  19950  263.0  C23 C25 C27        S     train  \n",
       "89           23.0      3      2  19950  263.0  C23 C25 C27        S     train  \n",
       "342          24.0      3      2  19950  263.0  C23 C25 C27        S     train  \n",
       "439          64.0      1      4  19950  263.0  C23 C25 C27        S     train  \n",
       "945          28.0      3      2  19950  263.0  C23 C25 C27        S      test  \n",
       "961          60.0      1      4  19950  263.0  C23 C25 C27        S      test  "
      ]
     },
     "execution_count": 18,
     "metadata": {},
     "output_type": "execute_result"
    }
   ],
   "source": [
    "df[df[\"Cabin\"] == \"C23 C25 C27\"]"
   ]
  },
  {
   "cell_type": "markdown",
   "id": "23455b4d",
   "metadata": {
    "papermill": {
     "duration": 0.026993,
     "end_time": "2024-02-03T02:59:17.351220",
     "exception": false,
     "start_time": "2024-02-03T02:59:17.324227",
     "status": "completed"
    },
    "tags": []
   },
   "source": [
    "For the most repeated cabin value, **we can see that the passengers shared the same last name, ticket number, fare and port of embarkation**. Also, their `SibSp` and `Parch` values are almost the same or close between each other. **Note that these passengers were travelling in first class**.\n",
    "\n",
    "Let's explore the other most repeated cabin value:"
   ]
  },
  {
   "cell_type": "code",
   "execution_count": 19,
   "id": "e64ce8d5",
   "metadata": {
    "execution": {
     "iopub.execute_input": "2024-02-03T02:59:17.407639Z",
     "iopub.status.busy": "2024-02-03T02:59:17.406512Z",
     "iopub.status.idle": "2024-02-03T02:59:17.426710Z",
     "shell.execute_reply": "2024-02-03T02:59:17.425943Z"
    },
    "papermill": {
     "duration": 0.05066,
     "end_time": "2024-02-03T02:59:17.428837",
     "exception": false,
     "start_time": "2024-02-03T02:59:17.378177",
     "status": "completed"
    },
    "tags": []
   },
   "outputs": [
    {
     "data": {
      "text/html": [
       "<div>\n",
       "<style scoped>\n",
       "    .dataframe tbody tr th:only-of-type {\n",
       "        vertical-align: middle;\n",
       "    }\n",
       "\n",
       "    .dataframe tbody tr th {\n",
       "        vertical-align: top;\n",
       "    }\n",
       "\n",
       "    .dataframe thead th {\n",
       "        text-align: right;\n",
       "    }\n",
       "</style>\n",
       "<table border=\"1\" class=\"dataframe\">\n",
       "  <thead>\n",
       "    <tr style=\"text-align: right;\">\n",
       "      <th></th>\n",
       "      <th>Survived</th>\n",
       "      <th>Pclass</th>\n",
       "      <th>Name</th>\n",
       "      <th>Sex</th>\n",
       "      <th>Age</th>\n",
       "      <th>SibSp</th>\n",
       "      <th>Parch</th>\n",
       "      <th>Ticket</th>\n",
       "      <th>Fare</th>\n",
       "      <th>Cabin</th>\n",
       "      <th>Embarked</th>\n",
       "      <th>data_type</th>\n",
       "    </tr>\n",
       "    <tr>\n",
       "      <th>PassengerId</th>\n",
       "      <th></th>\n",
       "      <th></th>\n",
       "      <th></th>\n",
       "      <th></th>\n",
       "      <th></th>\n",
       "      <th></th>\n",
       "      <th></th>\n",
       "      <th></th>\n",
       "      <th></th>\n",
       "      <th></th>\n",
       "      <th></th>\n",
       "      <th></th>\n",
       "    </tr>\n",
       "  </thead>\n",
       "  <tbody>\n",
       "    <tr>\n",
       "      <th>11</th>\n",
       "      <td>1.0</td>\n",
       "      <td>3</td>\n",
       "      <td>Sandstrom, Miss. Marguerite Rut</td>\n",
       "      <td>female</td>\n",
       "      <td>4.0</td>\n",
       "      <td>1</td>\n",
       "      <td>1</td>\n",
       "      <td>PP 9549</td>\n",
       "      <td>16.7000</td>\n",
       "      <td>G6</td>\n",
       "      <td>S</td>\n",
       "      <td>train</td>\n",
       "    </tr>\n",
       "    <tr>\n",
       "      <th>206</th>\n",
       "      <td>0.0</td>\n",
       "      <td>3</td>\n",
       "      <td>Strom, Miss. Telma Matilda</td>\n",
       "      <td>female</td>\n",
       "      <td>2.0</td>\n",
       "      <td>0</td>\n",
       "      <td>1</td>\n",
       "      <td>347054</td>\n",
       "      <td>10.4625</td>\n",
       "      <td>G6</td>\n",
       "      <td>S</td>\n",
       "      <td>train</td>\n",
       "    </tr>\n",
       "    <tr>\n",
       "      <th>252</th>\n",
       "      <td>0.0</td>\n",
       "      <td>3</td>\n",
       "      <td>Strom, Mrs. Wilhelm (Elna Matilda Persson)</td>\n",
       "      <td>female</td>\n",
       "      <td>29.0</td>\n",
       "      <td>1</td>\n",
       "      <td>1</td>\n",
       "      <td>347054</td>\n",
       "      <td>10.4625</td>\n",
       "      <td>G6</td>\n",
       "      <td>S</td>\n",
       "      <td>train</td>\n",
       "    </tr>\n",
       "    <tr>\n",
       "      <th>395</th>\n",
       "      <td>1.0</td>\n",
       "      <td>3</td>\n",
       "      <td>Sandstrom, Mrs. Hjalmar (Agnes Charlotta Bengt...</td>\n",
       "      <td>female</td>\n",
       "      <td>24.0</td>\n",
       "      <td>0</td>\n",
       "      <td>2</td>\n",
       "      <td>PP 9549</td>\n",
       "      <td>16.7000</td>\n",
       "      <td>G6</td>\n",
       "      <td>S</td>\n",
       "      <td>train</td>\n",
       "    </tr>\n",
       "    <tr>\n",
       "      <th>1009</th>\n",
       "      <td>NaN</td>\n",
       "      <td>3</td>\n",
       "      <td>Sandstrom, Miss. Beatrice Irene</td>\n",
       "      <td>female</td>\n",
       "      <td>1.0</td>\n",
       "      <td>1</td>\n",
       "      <td>1</td>\n",
       "      <td>PP 9549</td>\n",
       "      <td>16.7000</td>\n",
       "      <td>G6</td>\n",
       "      <td>S</td>\n",
       "      <td>test</td>\n",
       "    </tr>\n",
       "  </tbody>\n",
       "</table>\n",
       "</div>"
      ],
      "text/plain": [
       "             Survived  Pclass  \\\n",
       "PassengerId                     \n",
       "11                1.0       3   \n",
       "206               0.0       3   \n",
       "252               0.0       3   \n",
       "395               1.0       3   \n",
       "1009              NaN       3   \n",
       "\n",
       "                                                          Name     Sex   Age  \\\n",
       "PassengerId                                                                    \n",
       "11                             Sandstrom, Miss. Marguerite Rut  female   4.0   \n",
       "206                                 Strom, Miss. Telma Matilda  female   2.0   \n",
       "252                 Strom, Mrs. Wilhelm (Elna Matilda Persson)  female  29.0   \n",
       "395          Sandstrom, Mrs. Hjalmar (Agnes Charlotta Bengt...  female  24.0   \n",
       "1009                           Sandstrom, Miss. Beatrice Irene  female   1.0   \n",
       "\n",
       "             SibSp  Parch   Ticket     Fare Cabin Embarked data_type  \n",
       "PassengerId                                                           \n",
       "11               1      1  PP 9549  16.7000    G6        S     train  \n",
       "206              0      1   347054  10.4625    G6        S     train  \n",
       "252              1      1   347054  10.4625    G6        S     train  \n",
       "395              0      2  PP 9549  16.7000    G6        S     train  \n",
       "1009             1      1  PP 9549  16.7000    G6        S      test  "
      ]
     },
     "execution_count": 19,
     "metadata": {},
     "output_type": "execute_result"
    }
   ],
   "source": [
    "df[df[\"Cabin\"] == \"G6\"]"
   ]
  },
  {
   "cell_type": "markdown",
   "id": "8ead1c36",
   "metadata": {
    "papermill": {
     "duration": 0.02849,
     "end_time": "2024-02-03T02:59:17.485169",
     "exception": false,
     "start_time": "2024-02-03T02:59:17.456679",
     "status": "completed"
    },
    "tags": []
   },
   "source": [
    "We can see that there are three women that shared the same last name and ticket number. The other two also shared these same values. The five of them shared the same class (third class) and port of embarkation. Based on this context, **we can assume that these passengers were two different families sharing the same cabin**."
   ]
  },
  {
   "cell_type": "markdown",
   "id": "a76d178d",
   "metadata": {
    "papermill": {
     "duration": 0.027981,
     "end_time": "2024-02-03T02:59:17.547098",
     "exception": false,
     "start_time": "2024-02-03T02:59:17.519117",
     "status": "completed"
    },
    "tags": []
   },
   "source": [
    "# Data cleaning and transformations\n",
    "\n",
    "We are going to perform some operations and transformations over the data frame before creating some visualizations."
   ]
  },
  {
   "cell_type": "code",
   "execution_count": 20,
   "id": "43e380ea",
   "metadata": {
    "execution": {
     "iopub.execute_input": "2024-02-03T02:59:17.607453Z",
     "iopub.status.busy": "2024-02-03T02:59:17.606502Z",
     "iopub.status.idle": "2024-02-03T02:59:17.613912Z",
     "shell.execute_reply": "2024-02-03T02:59:17.613130Z"
    },
    "papermill": {
     "duration": 0.038852,
     "end_time": "2024-02-03T02:59:17.616103",
     "exception": false,
     "start_time": "2024-02-03T02:59:17.577251",
     "status": "completed"
    },
    "tags": []
   },
   "outputs": [
    {
     "data": {
      "text/plain": [
       "Index(['survived', 'pclass', 'name', 'sex', 'age', 'sibsp', 'parch', 'ticket',\n",
       "       'fare', 'cabin', 'embarked', 'data_type'],\n",
       "      dtype='object')"
      ]
     },
     "execution_count": 20,
     "metadata": {},
     "output_type": "execute_result"
    }
   ],
   "source": [
    "# Let's put all column names as lower case.\n",
    "df.columns = [col.lower() for col in df.columns]\n",
    "df.columns"
   ]
  },
  {
   "cell_type": "markdown",
   "id": "a491cf91",
   "metadata": {
    "papermill": {
     "duration": 0.028815,
     "end_time": "2024-02-03T02:59:17.673047",
     "exception": false,
     "start_time": "2024-02-03T02:59:17.644232",
     "status": "completed"
    },
    "tags": []
   },
   "source": [
    "Let's convert the appropiate categorical columns as Pandas Categorical variables."
   ]
  },
  {
   "cell_type": "code",
   "execution_count": 21,
   "id": "64712015",
   "metadata": {
    "execution": {
     "iopub.execute_input": "2024-02-03T02:59:17.733113Z",
     "iopub.status.busy": "2024-02-03T02:59:17.732678Z",
     "iopub.status.idle": "2024-02-03T02:59:17.747599Z",
     "shell.execute_reply": "2024-02-03T02:59:17.746452Z"
    },
    "papermill": {
     "duration": 0.047617,
     "end_time": "2024-02-03T02:59:17.750143",
     "exception": false,
     "start_time": "2024-02-03T02:59:17.702526",
     "status": "completed"
    },
    "tags": []
   },
   "outputs": [
    {
     "data": {
      "text/plain": [
       "PassengerId\n",
       "1         0\n",
       "2         1\n",
       "3         1\n",
       "4         1\n",
       "5         0\n",
       "       ... \n",
       "1305    NaN\n",
       "1306    NaN\n",
       "1307    NaN\n",
       "1308    NaN\n",
       "1309    NaN\n",
       "Name: survived, Length: 1309, dtype: category\n",
       "Categories (2, object): ['0', '1']"
      ]
     },
     "execution_count": 21,
     "metadata": {},
     "output_type": "execute_result"
    }
   ],
   "source": [
    "df[\"survived\"] = pd.Categorical(df[\"survived\"].map(lambda x: str(int(x)) if pd.notna(x) else None), categories=[\"0\", \"1\"])\n",
    "df[\"survived\"]"
   ]
  },
  {
   "cell_type": "code",
   "execution_count": 22,
   "id": "8be11e1c",
   "metadata": {
    "execution": {
     "iopub.execute_input": "2024-02-03T02:59:17.808472Z",
     "iopub.status.busy": "2024-02-03T02:59:17.808039Z",
     "iopub.status.idle": "2024-02-03T02:59:17.822009Z",
     "shell.execute_reply": "2024-02-03T02:59:17.820908Z"
    },
    "papermill": {
     "duration": 0.046016,
     "end_time": "2024-02-03T02:59:17.824574",
     "exception": false,
     "start_time": "2024-02-03T02:59:17.778558",
     "status": "completed"
    },
    "tags": []
   },
   "outputs": [
    {
     "data": {
      "text/plain": [
       "PassengerId\n",
       "1       3\n",
       "2       1\n",
       "3       3\n",
       "4       1\n",
       "5       3\n",
       "       ..\n",
       "1305    3\n",
       "1306    1\n",
       "1307    3\n",
       "1308    3\n",
       "1309    3\n",
       "Name: pclass, Length: 1309, dtype: category\n",
       "Categories (3, object): ['1', '2', '3']"
      ]
     },
     "execution_count": 22,
     "metadata": {},
     "output_type": "execute_result"
    }
   ],
   "source": [
    "df[\"pclass\"] = pd.Categorical(df[\"pclass\"].astype(str), categories=[\"1\", \"2\", \"3\"])\n",
    "df[\"pclass\"]"
   ]
  },
  {
   "cell_type": "code",
   "execution_count": 23,
   "id": "c016f639",
   "metadata": {
    "execution": {
     "iopub.execute_input": "2024-02-03T02:59:17.884105Z",
     "iopub.status.busy": "2024-02-03T02:59:17.883544Z",
     "iopub.status.idle": "2024-02-03T02:59:17.897818Z",
     "shell.execute_reply": "2024-02-03T02:59:17.896131Z"
    },
    "papermill": {
     "duration": 0.04723,
     "end_time": "2024-02-03T02:59:17.900355",
     "exception": false,
     "start_time": "2024-02-03T02:59:17.853125",
     "status": "completed"
    },
    "tags": []
   },
   "outputs": [
    {
     "data": {
      "text/plain": [
       "PassengerId\n",
       "1         male\n",
       "2       female\n",
       "3       female\n",
       "4       female\n",
       "5         male\n",
       "         ...  \n",
       "1305      male\n",
       "1306    female\n",
       "1307      male\n",
       "1308      male\n",
       "1309      male\n",
       "Name: sex, Length: 1309, dtype: category\n",
       "Categories (2, object): ['male', 'female']"
      ]
     },
     "execution_count": 23,
     "metadata": {},
     "output_type": "execute_result"
    }
   ],
   "source": [
    "df[\"sex\"] = pd.Categorical(df[\"sex\"], categories=[\"male\", \"female\"])\n",
    "df[\"sex\"]"
   ]
  },
  {
   "cell_type": "code",
   "execution_count": 24,
   "id": "93320dac",
   "metadata": {
    "execution": {
     "iopub.execute_input": "2024-02-03T02:59:17.958765Z",
     "iopub.status.busy": "2024-02-03T02:59:17.958389Z",
     "iopub.status.idle": "2024-02-03T02:59:17.969179Z",
     "shell.execute_reply": "2024-02-03T02:59:17.967840Z"
    },
    "papermill": {
     "duration": 0.042733,
     "end_time": "2024-02-03T02:59:17.971799",
     "exception": false,
     "start_time": "2024-02-03T02:59:17.929066",
     "status": "completed"
    },
    "tags": []
   },
   "outputs": [
    {
     "data": {
      "text/plain": [
       "PassengerId\n",
       "1       S\n",
       "2       C\n",
       "3       S\n",
       "4       S\n",
       "5       S\n",
       "       ..\n",
       "1305    S\n",
       "1306    C\n",
       "1307    S\n",
       "1308    S\n",
       "1309    C\n",
       "Name: embarked, Length: 1309, dtype: category\n",
       "Categories (3, object): ['C', 'Q', 'S']"
      ]
     },
     "execution_count": 24,
     "metadata": {},
     "output_type": "execute_result"
    }
   ],
   "source": [
    "df[\"embarked\"] = pd.Categorical(df[\"embarked\"], categories=[\"C\", \"Q\", \"S\"])\n",
    "df[\"embarked\"]"
   ]
  },
  {
   "cell_type": "code",
   "execution_count": 25,
   "id": "a128af91",
   "metadata": {
    "execution": {
     "iopub.execute_input": "2024-02-03T02:59:18.032769Z",
     "iopub.status.busy": "2024-02-03T02:59:18.030430Z",
     "iopub.status.idle": "2024-02-03T02:59:18.043277Z",
     "shell.execute_reply": "2024-02-03T02:59:18.042208Z"
    },
    "papermill": {
     "duration": 0.045353,
     "end_time": "2024-02-03T02:59:18.045638",
     "exception": false,
     "start_time": "2024-02-03T02:59:18.000285",
     "status": "completed"
    },
    "tags": []
   },
   "outputs": [
    {
     "data": {
      "text/plain": [
       "PassengerId\n",
       "1       train\n",
       "2       train\n",
       "3       train\n",
       "4       train\n",
       "5       train\n",
       "        ...  \n",
       "1305     test\n",
       "1306     test\n",
       "1307     test\n",
       "1308     test\n",
       "1309     test\n",
       "Name: data_type, Length: 1309, dtype: category\n",
       "Categories (2, object): ['train', 'test']"
      ]
     },
     "execution_count": 25,
     "metadata": {},
     "output_type": "execute_result"
    }
   ],
   "source": [
    "df[\"data_type\"] = pd.Categorical(df[\"data_type\"], categories=[\"train\", \"test\"])\n",
    "df[\"data_type\"]"
   ]
  },
  {
   "cell_type": "code",
   "execution_count": 26,
   "id": "5f2148db",
   "metadata": {
    "execution": {
     "iopub.execute_input": "2024-02-03T02:59:18.105644Z",
     "iopub.status.busy": "2024-02-03T02:59:18.105253Z",
     "iopub.status.idle": "2024-02-03T02:59:18.120533Z",
     "shell.execute_reply": "2024-02-03T02:59:18.119252Z"
    },
    "papermill": {
     "duration": 0.048476,
     "end_time": "2024-02-03T02:59:18.123053",
     "exception": false,
     "start_time": "2024-02-03T02:59:18.074577",
     "status": "completed"
    },
    "tags": []
   },
   "outputs": [
    {
     "data": {
      "text/plain": [
       "PassengerId\n",
       "1       Unknown\n",
       "2             C\n",
       "3       Unknown\n",
       "4             C\n",
       "5       Unknown\n",
       "         ...   \n",
       "1305    Unknown\n",
       "1306          C\n",
       "1307    Unknown\n",
       "1308    Unknown\n",
       "1309    Unknown\n",
       "Name: deck, Length: 1309, dtype: category\n",
       "Categories (9, object): ['A', 'B', 'C', 'D', ..., 'F', 'T', 'G', 'Unknown']"
      ]
     },
     "execution_count": 26,
     "metadata": {},
     "output_type": "execute_result"
    }
   ],
   "source": [
    "# We are going to create a new category to identify the type of cabin the passenger had (deck).\n",
    "df[\"deck\"] = df[\"cabin\"].map(lambda cabin: cabin[0] if pd.notna(cabin) else \"Unknown\")\n",
    "df[\"deck\"] = pd.Categorical(df[\"deck\"], categories=[\"A\", \"B\", \"C\", \"D\", \"E\", \"F\", \"T\", \"G\", \"Unknown\"])\n",
    "df[\"deck\"]"
   ]
  },
  {
   "cell_type": "code",
   "execution_count": 27,
   "id": "2b7ee015",
   "metadata": {
    "execution": {
     "iopub.execute_input": "2024-02-03T02:59:18.183710Z",
     "iopub.status.busy": "2024-02-03T02:59:18.183313Z",
     "iopub.status.idle": "2024-02-03T02:59:18.192550Z",
     "shell.execute_reply": "2024-02-03T02:59:18.191774Z"
    },
    "papermill": {
     "duration": 0.041786,
     "end_time": "2024-02-03T02:59:18.194651",
     "exception": false,
     "start_time": "2024-02-03T02:59:18.152865",
     "status": "completed"
    },
    "tags": []
   },
   "outputs": [
    {
     "data": {
      "text/plain": [
       "PassengerId\n",
       "1      1\n",
       "3      0\n",
       "8      3\n",
       "17     4\n",
       "39     2\n",
       "60     5\n",
       "160    8\n",
       "Name: sibsp, dtype: int64"
      ]
     },
     "execution_count": 27,
     "metadata": {},
     "output_type": "execute_result"
    }
   ],
   "source": [
    "# Let's see if we can treat siblings / spouses as a categorical variable.\n",
    "df[\"sibsp\"].drop_duplicates()"
   ]
  },
  {
   "cell_type": "code",
   "execution_count": 28,
   "id": "2799399d",
   "metadata": {
    "execution": {
     "iopub.execute_input": "2024-02-03T02:59:18.255264Z",
     "iopub.status.busy": "2024-02-03T02:59:18.254804Z",
     "iopub.status.idle": "2024-02-03T02:59:18.268664Z",
     "shell.execute_reply": "2024-02-03T02:59:18.267330Z"
    },
    "papermill": {
     "duration": 0.046777,
     "end_time": "2024-02-03T02:59:18.270824",
     "exception": false,
     "start_time": "2024-02-03T02:59:18.224047",
     "status": "completed"
    },
    "tags": []
   },
   "outputs": [
    {
     "data": {
      "text/plain": [
       "PassengerId\n",
       "1       1\n",
       "2       1\n",
       "3       0\n",
       "4       1\n",
       "5       0\n",
       "       ..\n",
       "1305    0\n",
       "1306    0\n",
       "1307    0\n",
       "1308    0\n",
       "1309    1\n",
       "Name: sibsp, Length: 1309, dtype: category\n",
       "Categories (9, object): ['0' < '1' < '2' < '3' ... '5' < '6' < '7' < '8']"
      ]
     },
     "execution_count": 28,
     "metadata": {},
     "output_type": "execute_result"
    }
   ],
   "source": [
    "# We can treat this column as categorical because it has a small amount of unique values.\n",
    "df[\"sibsp\"] = pd.Categorical(df[\"sibsp\"].map(lambda x: str(x)), categories=[\"0\", \"1\", \"2\", \"3\", \"4\", \"5\", \"6\", \"7\", \"8\"], ordered=True)\n",
    "df[\"sibsp\"]"
   ]
  },
  {
   "cell_type": "code",
   "execution_count": 29,
   "id": "fa9be862",
   "metadata": {
    "execution": {
     "iopub.execute_input": "2024-02-03T02:59:18.332055Z",
     "iopub.status.busy": "2024-02-03T02:59:18.331389Z",
     "iopub.status.idle": "2024-02-03T02:59:18.338464Z",
     "shell.execute_reply": "2024-02-03T02:59:18.337744Z"
    },
    "papermill": {
     "duration": 0.040072,
     "end_time": "2024-02-03T02:59:18.340626",
     "exception": false,
     "start_time": "2024-02-03T02:59:18.300554",
     "status": "completed"
    },
    "tags": []
   },
   "outputs": [
    {
     "data": {
      "text/plain": [
       "PassengerId\n",
       "1       0\n",
       "8       1\n",
       "9       2\n",
       "14      5\n",
       "87      3\n",
       "168     4\n",
       "679     6\n",
       "1234    9\n",
       "Name: parch, dtype: int64"
      ]
     },
     "execution_count": 29,
     "metadata": {},
     "output_type": "execute_result"
    }
   ],
   "source": [
    "# Let's see if we can do the same for parents / children.\n",
    "df[\"parch\"].drop_duplicates()"
   ]
  },
  {
   "cell_type": "code",
   "execution_count": 30,
   "id": "1a26e40a",
   "metadata": {
    "execution": {
     "iopub.execute_input": "2024-02-03T02:59:18.402035Z",
     "iopub.status.busy": "2024-02-03T02:59:18.401334Z",
     "iopub.status.idle": "2024-02-03T02:59:18.413847Z",
     "shell.execute_reply": "2024-02-03T02:59:18.412871Z"
    },
    "papermill": {
     "duration": 0.045611,
     "end_time": "2024-02-03T02:59:18.416155",
     "exception": false,
     "start_time": "2024-02-03T02:59:18.370544",
     "status": "completed"
    },
    "tags": []
   },
   "outputs": [
    {
     "data": {
      "text/plain": [
       "PassengerId\n",
       "1       0\n",
       "2       0\n",
       "3       0\n",
       "4       0\n",
       "5       0\n",
       "       ..\n",
       "1305    0\n",
       "1306    0\n",
       "1307    0\n",
       "1308    0\n",
       "1309    1\n",
       "Name: parch, Length: 1309, dtype: category\n",
       "Categories (10, object): ['0' < '1' < '2' < '3' ... '6' < '7' < '8' < '9']"
      ]
     },
     "execution_count": 30,
     "metadata": {},
     "output_type": "execute_result"
    }
   ],
   "source": [
    "# We can also treat this column as categorical because it has a small amount of unique values.\n",
    "df[\"parch\"] = pd.Categorical(df[\"parch\"].map(lambda x: str(x)), categories=[\"0\", \"1\", \"2\", \"3\", \"4\", \"5\", \"6\", \"7\", \"8\", \"9\"], ordered=True)\n",
    "df[\"parch\"]"
   ]
  },
  {
   "cell_type": "markdown",
   "id": "5da43f5c",
   "metadata": {
    "papermill": {
     "duration": 0.028696,
     "end_time": "2024-02-03T02:59:18.473825",
     "exception": false,
     "start_time": "2024-02-03T02:59:18.445129",
     "status": "completed"
    },
    "tags": []
   },
   "source": [
    "Let's describe the data frame again to see what changed with these transformations."
   ]
  },
  {
   "cell_type": "code",
   "execution_count": 31,
   "id": "b03f6a02",
   "metadata": {
    "execution": {
     "iopub.execute_input": "2024-02-03T02:59:18.535079Z",
     "iopub.status.busy": "2024-02-03T02:59:18.533924Z",
     "iopub.status.idle": "2024-02-03T02:59:18.542586Z",
     "shell.execute_reply": "2024-02-03T02:59:18.541637Z"
    },
    "papermill": {
     "duration": 0.04158,
     "end_time": "2024-02-03T02:59:18.544745",
     "exception": false,
     "start_time": "2024-02-03T02:59:18.503165",
     "status": "completed"
    },
    "tags": []
   },
   "outputs": [
    {
     "data": {
      "text/plain": [
       "survived     category\n",
       "pclass       category\n",
       "name           object\n",
       "sex          category\n",
       "age           float64\n",
       "sibsp        category\n",
       "parch        category\n",
       "ticket         object\n",
       "fare          float64\n",
       "cabin          object\n",
       "embarked     category\n",
       "data_type    category\n",
       "deck         category\n",
       "dtype: object"
      ]
     },
     "execution_count": 31,
     "metadata": {},
     "output_type": "execute_result"
    }
   ],
   "source": [
    "# Now the categories are represented as type \"category\".\n",
    "df.dtypes"
   ]
  },
  {
   "cell_type": "code",
   "execution_count": 32,
   "id": "316de05f",
   "metadata": {
    "execution": {
     "iopub.execute_input": "2024-02-03T02:59:18.606255Z",
     "iopub.status.busy": "2024-02-03T02:59:18.605390Z",
     "iopub.status.idle": "2024-02-03T02:59:18.632051Z",
     "shell.execute_reply": "2024-02-03T02:59:18.630837Z"
    },
    "papermill": {
     "duration": 0.060419,
     "end_time": "2024-02-03T02:59:18.634564",
     "exception": false,
     "start_time": "2024-02-03T02:59:18.574145",
     "status": "completed"
    },
    "tags": []
   },
   "outputs": [
    {
     "data": {
      "text/html": [
       "<div>\n",
       "<style scoped>\n",
       "    .dataframe tbody tr th:only-of-type {\n",
       "        vertical-align: middle;\n",
       "    }\n",
       "\n",
       "    .dataframe tbody tr th {\n",
       "        vertical-align: top;\n",
       "    }\n",
       "\n",
       "    .dataframe thead th {\n",
       "        text-align: right;\n",
       "    }\n",
       "</style>\n",
       "<table border=\"1\" class=\"dataframe\">\n",
       "  <thead>\n",
       "    <tr style=\"text-align: right;\">\n",
       "      <th></th>\n",
       "      <th>survived</th>\n",
       "      <th>pclass</th>\n",
       "      <th>sex</th>\n",
       "      <th>sibsp</th>\n",
       "      <th>parch</th>\n",
       "      <th>embarked</th>\n",
       "      <th>data_type</th>\n",
       "      <th>deck</th>\n",
       "    </tr>\n",
       "  </thead>\n",
       "  <tbody>\n",
       "    <tr>\n",
       "      <th>count</th>\n",
       "      <td>891</td>\n",
       "      <td>1309</td>\n",
       "      <td>1309</td>\n",
       "      <td>1309</td>\n",
       "      <td>1309</td>\n",
       "      <td>1307</td>\n",
       "      <td>1309</td>\n",
       "      <td>1309</td>\n",
       "    </tr>\n",
       "    <tr>\n",
       "      <th>unique</th>\n",
       "      <td>2</td>\n",
       "      <td>3</td>\n",
       "      <td>2</td>\n",
       "      <td>7</td>\n",
       "      <td>8</td>\n",
       "      <td>3</td>\n",
       "      <td>2</td>\n",
       "      <td>9</td>\n",
       "    </tr>\n",
       "    <tr>\n",
       "      <th>top</th>\n",
       "      <td>0</td>\n",
       "      <td>3</td>\n",
       "      <td>male</td>\n",
       "      <td>0</td>\n",
       "      <td>0</td>\n",
       "      <td>S</td>\n",
       "      <td>train</td>\n",
       "      <td>Unknown</td>\n",
       "    </tr>\n",
       "    <tr>\n",
       "      <th>freq</th>\n",
       "      <td>549</td>\n",
       "      <td>709</td>\n",
       "      <td>843</td>\n",
       "      <td>891</td>\n",
       "      <td>1002</td>\n",
       "      <td>914</td>\n",
       "      <td>891</td>\n",
       "      <td>1014</td>\n",
       "    </tr>\n",
       "  </tbody>\n",
       "</table>\n",
       "</div>"
      ],
      "text/plain": [
       "       survived pclass   sex sibsp parch embarked data_type     deck\n",
       "count       891   1309  1309  1309  1309     1307      1309     1309\n",
       "unique        2      3     2     7     8        3         2        9\n",
       "top           0      3  male     0     0        S     train  Unknown\n",
       "freq        549    709   843   891  1002      914       891     1014"
      ]
     },
     "execution_count": 32,
     "metadata": {},
     "output_type": "execute_result"
    }
   ],
   "source": [
    "# Let's describe these new variables.\n",
    "df.describe(include=\"category\")"
   ]
  },
  {
   "cell_type": "markdown",
   "id": "4ff5d17d",
   "metadata": {
    "papermill": {
     "duration": 0.031486,
     "end_time": "2024-02-03T02:59:18.696496",
     "exception": false,
     "start_time": "2024-02-03T02:59:18.665010",
     "status": "completed"
    },
    "tags": []
   },
   "source": [
    "With these transformations, it would be possible to treat categories in a correct manner for the visualizations."
   ]
  },
  {
   "cell_type": "markdown",
   "id": "32da4a6e",
   "metadata": {
    "papermill": {
     "duration": 0.029485,
     "end_time": "2024-02-03T02:59:18.756401",
     "exception": false,
     "start_time": "2024-02-03T02:59:18.726916",
     "status": "completed"
    },
    "tags": []
   },
   "source": [
    "# Data visualization\n",
    "\n",
    "First of all, let's define the color palette we are going to use for the graphics."
   ]
  },
  {
   "cell_type": "code",
   "execution_count": 33,
   "id": "549ed59e",
   "metadata": {
    "execution": {
     "iopub.execute_input": "2024-02-03T02:59:18.818849Z",
     "iopub.status.busy": "2024-02-03T02:59:18.817737Z",
     "iopub.status.idle": "2024-02-03T02:59:18.826309Z",
     "shell.execute_reply": "2024-02-03T02:59:18.825133Z"
    },
    "papermill": {
     "duration": 0.042302,
     "end_time": "2024-02-03T02:59:18.828620",
     "exception": false,
     "start_time": "2024-02-03T02:59:18.786318",
     "status": "completed"
    },
    "tags": []
   },
   "outputs": [
    {
     "data": {
      "text/html": [
       "<svg  width=\"550\" height=\"55\"><rect x=\"0\" y=\"0\" width=\"55\" height=\"55\" style=\"fill:#0173b2;stroke-width:2;stroke:rgb(255,255,255)\"/><rect x=\"55\" y=\"0\" width=\"55\" height=\"55\" style=\"fill:#de8f05;stroke-width:2;stroke:rgb(255,255,255)\"/><rect x=\"110\" y=\"0\" width=\"55\" height=\"55\" style=\"fill:#029e73;stroke-width:2;stroke:rgb(255,255,255)\"/><rect x=\"165\" y=\"0\" width=\"55\" height=\"55\" style=\"fill:#d55e00;stroke-width:2;stroke:rgb(255,255,255)\"/><rect x=\"220\" y=\"0\" width=\"55\" height=\"55\" style=\"fill:#cc78bc;stroke-width:2;stroke:rgb(255,255,255)\"/><rect x=\"275\" y=\"0\" width=\"55\" height=\"55\" style=\"fill:#ca9161;stroke-width:2;stroke:rgb(255,255,255)\"/><rect x=\"330\" y=\"0\" width=\"55\" height=\"55\" style=\"fill:#fbafe4;stroke-width:2;stroke:rgb(255,255,255)\"/><rect x=\"385\" y=\"0\" width=\"55\" height=\"55\" style=\"fill:#949494;stroke-width:2;stroke:rgb(255,255,255)\"/><rect x=\"440\" y=\"0\" width=\"55\" height=\"55\" style=\"fill:#ece133;stroke-width:2;stroke:rgb(255,255,255)\"/><rect x=\"495\" y=\"0\" width=\"55\" height=\"55\" style=\"fill:#56b4e9;stroke-width:2;stroke:rgb(255,255,255)\"/></svg>"
      ],
      "text/plain": [
       "[(0.00392156862745098, 0.45098039215686275, 0.6980392156862745),\n",
       " (0.8705882352941177, 0.5607843137254902, 0.0196078431372549),\n",
       " (0.00784313725490196, 0.6196078431372549, 0.45098039215686275),\n",
       " (0.8352941176470589, 0.3686274509803922, 0.0),\n",
       " (0.8, 0.47058823529411764, 0.7372549019607844),\n",
       " (0.792156862745098, 0.5686274509803921, 0.3803921568627451),\n",
       " (0.984313725490196, 0.6862745098039216, 0.8941176470588236),\n",
       " (0.5803921568627451, 0.5803921568627451, 0.5803921568627451),\n",
       " (0.9254901960784314, 0.8823529411764706, 0.2),\n",
       " (0.33725490196078434, 0.7058823529411765, 0.9137254901960784)]"
      ]
     },
     "execution_count": 33,
     "metadata": {},
     "output_type": "execute_result"
    }
   ],
   "source": [
    "# We are going to use the colorbind palette.\n",
    "sns.color_palette(\"colorblind\")"
   ]
  },
  {
   "cell_type": "markdown",
   "id": "bf95e7df",
   "metadata": {
    "papermill": {
     "duration": 0.030167,
     "end_time": "2024-02-03T02:59:18.888750",
     "exception": false,
     "start_time": "2024-02-03T02:59:18.858583",
     "status": "completed"
    },
    "tags": []
   },
   "source": [
    "Let's visualize the number of survivors vs. the number of people that did not survived."
   ]
  },
  {
   "cell_type": "code",
   "execution_count": 34,
   "id": "c3353180",
   "metadata": {
    "execution": {
     "iopub.execute_input": "2024-02-03T02:59:18.950601Z",
     "iopub.status.busy": "2024-02-03T02:59:18.950209Z",
     "iopub.status.idle": "2024-02-03T02:59:19.240894Z",
     "shell.execute_reply": "2024-02-03T02:59:19.239623Z"
    },
    "papermill": {
     "duration": 0.325056,
     "end_time": "2024-02-03T02:59:19.243736",
     "exception": false,
     "start_time": "2024-02-03T02:59:18.918680",
     "status": "completed"
    },
    "tags": []
   },
   "outputs": [
    {
     "data": {
      "image/png": "[encoded data removed]",
      "text/plain": [
       "<Figure size 640x480 with 1 Axes>"
      ]
     },
     "metadata": {},
     "output_type": "display_data"
    }
   ],
   "source": [
    "with sns.color_palette(\"colorblind\"):\n",
    "    sns.histplot(data=df, x=\"survived\", hue=\"survived\")\n",
    "    sns.despine()\n",
    "    plt.show()"
   ]
  },
  {
   "cell_type": "markdown",
   "id": "6cbcbebb",
   "metadata": {
    "papermill": {
     "duration": 0.030219,
     "end_time": "2024-02-03T02:59:19.304560",
     "exception": false,
     "start_time": "2024-02-03T02:59:19.274341",
     "status": "completed"
    },
    "tags": []
   },
   "source": [
    "We can see that, in the train dataset, there are more people that did not survived the shipwreck than people that survived. The number of people that survived is almost half of the people that did not survived.\n",
    "\n",
    "Let's plot the number of women vs. the number of men."
   ]
  },
  {
   "cell_type": "code",
   "execution_count": 35,
   "id": "f47199aa",
   "metadata": {
    "execution": {
     "iopub.execute_input": "2024-02-03T02:59:19.367909Z",
     "iopub.status.busy": "2024-02-03T02:59:19.367470Z",
     "iopub.status.idle": "2024-02-03T02:59:19.650843Z",
     "shell.execute_reply": "2024-02-03T02:59:19.650041Z"
    },
    "papermill": {
     "duration": 0.317922,
     "end_time": "2024-02-03T02:59:19.653077",
     "exception": false,
     "start_time": "2024-02-03T02:59:19.335155",
     "status": "completed"
    },
    "tags": []
   },
   "outputs": [
    {
     "data": {
      "image/png": "[encoded data removed]",
      "text/plain": [
       "<Figure size 640x480 with 1 Axes>"
      ]
     },
     "metadata": {},
     "output_type": "display_data"
    }
   ],
   "source": [
    "with sns.color_palette(\"colorblind\"):\n",
    "    sns.histplot(data=df, x=\"sex\", hue=\"sex\")\n",
    "    sns.despine()\n",
    "    plt.show()"
   ]
  },
  {
   "cell_type": "markdown",
   "id": "48edb993",
   "metadata": {
    "papermill": {
     "duration": 0.032277,
     "end_time": "2024-02-03T02:59:19.717314",
     "exception": false,
     "start_time": "2024-02-03T02:59:19.685037",
     "status": "completed"
    },
    "tags": []
   },
   "source": [
    "Almost the same relationshipn exists within this two variables. The number of women is almost half the number of men.\n",
    "\n",
    "Let's plot the number of people in every class."
   ]
  },
  {
   "cell_type": "code",
   "execution_count": 36,
   "id": "63f47c20",
   "metadata": {
    "execution": {
     "iopub.execute_input": "2024-02-03T02:59:19.780967Z",
     "iopub.status.busy": "2024-02-03T02:59:19.780052Z",
     "iopub.status.idle": "2024-02-03T02:59:20.080340Z",
     "shell.execute_reply": "2024-02-03T02:59:20.079202Z"
    },
    "papermill": {
     "duration": 0.335133,
     "end_time": "2024-02-03T02:59:20.083075",
     "exception": false,
     "start_time": "2024-02-03T02:59:19.747942",
     "status": "completed"
    },
    "tags": []
   },
   "outputs": [
    {
     "data": {
      "image/png": "[encoded data removed]",
      "text/plain": [
       "<Figure size 640x480 with 1 Axes>"
      ]
     },
     "metadata": {},
     "output_type": "display_data"
    }
   ],
   "source": [
    "with sns.color_palette(\"colorblind\"):\n",
    "    sns.histplot(data=df, x=\"pclass\", hue=\"pclass\")\n",
    "    sns.despine()\n",
    "    plt.show()"
   ]
  },
  {
   "cell_type": "markdown",
   "id": "47599677",
   "metadata": {
    "papermill": {
     "duration": 0.030993,
     "end_time": "2024-02-03T02:59:20.145443",
     "exception": false,
     "start_time": "2024-02-03T02:59:20.114450",
     "status": "completed"
    },
    "tags": []
   },
   "source": [
    "We can see on this plot that the number of people travelling in third class was almost the same as the number people travelling in first and second class together.\n",
    "\n",
    "Now, let's compare the numeric variables using a pairplot."
   ]
  },
  {
   "cell_type": "code",
   "execution_count": 37,
   "id": "4465d115",
   "metadata": {
    "execution": {
     "iopub.execute_input": "2024-02-03T02:59:20.211621Z",
     "iopub.status.busy": "2024-02-03T02:59:20.210841Z",
     "iopub.status.idle": "2024-02-03T02:59:21.770322Z",
     "shell.execute_reply": "2024-02-03T02:59:21.769397Z"
    },
    "papermill": {
     "duration": 1.595264,
     "end_time": "2024-02-03T02:59:21.772863",
     "exception": false,
     "start_time": "2024-02-03T02:59:20.177599",
     "status": "completed"
    },
    "tags": []
   },
   "outputs": [
    {
     "data": {
      "image/png": "[encoded data removed]",
      "text/plain": [
       "<Figure size 500x500 with 6 Axes>"
      ]
     },
     "metadata": {},
     "output_type": "display_data"
    }
   ],
   "source": [
    "with sns.color_palette(\"colorblind\"):\n",
    "    sns.pairplot(df, dropna=False)\n",
    "    plt.show()"
   ]
  },
  {
   "cell_type": "markdown",
   "id": "41ca7176",
   "metadata": {
    "papermill": {
     "duration": 0.032454,
     "end_time": "2024-02-03T02:59:21.837994",
     "exception": false,
     "start_time": "2024-02-03T02:59:21.805540",
     "status": "completed"
    },
    "tags": []
   },
   "source": [
    "We can conclude from this graphic:\n",
    "\n",
    "- There were more people younger than 50 years old than people older than 50 years old.\n",
    "- There were more people travelling with low-cost tickets than people travelling with high-price tickets. This could corresponds to the number of people travelling in third class.\n",
    "- It seems that there is no relationship between the fares and the age of the passengers.\n",
    "\n",
    "Let's plot the pairplot again using the `survived` variable to color the graphic."
   ]
  },
  {
   "cell_type": "code",
   "execution_count": 38,
   "id": "30e07ae3",
   "metadata": {
    "execution": {
     "iopub.execute_input": "2024-02-03T02:59:21.906000Z",
     "iopub.status.busy": "2024-02-03T02:59:21.904730Z",
     "iopub.status.idle": "2024-02-03T02:59:23.842496Z",
     "shell.execute_reply": "2024-02-03T02:59:23.841354Z"
    },
    "papermill": {
     "duration": 1.975082,
     "end_time": "2024-02-03T02:59:23.845658",
     "exception": false,
     "start_time": "2024-02-03T02:59:21.870576",
     "status": "completed"
    },
    "tags": []
   },
   "outputs": [
    {
     "data": {
      "image/png": "[encoded data removed]",
      "text/plain": [
       "<Figure size 583.472x500 with 6 Axes>"
      ]
     },
     "metadata": {},
     "output_type": "display_data"
    }
   ],
   "source": [
    "with sns.color_palette(\"colorblind\"):\n",
    "    sns.pairplot(df, hue=\"survived\", dropna=False)\n",
    "    plt.show()"
   ]
  },
  {
   "cell_type": "markdown",
   "id": "da58f816",
   "metadata": {
    "papermill": {
     "duration": 0.033306,
     "end_time": "2024-02-03T02:59:23.912718",
     "exception": false,
     "start_time": "2024-02-03T02:59:23.879412",
     "status": "completed"
    },
    "tags": []
   },
   "source": [
    "We can conclude from this graphic:\n",
    "\n",
    "- People that survived the shipwreck were younger than people that did not survived.\n",
    "- There were more survivors within the people that paid higher-cost fares.\n",
    "\n",
    "Let's plot the pairplot again using the `sex` variable to color the graphic."
   ]
  },
  {
   "cell_type": "code",
   "execution_count": 39,
   "id": "fb72cf22",
   "metadata": {
    "execution": {
     "iopub.execute_input": "2024-02-03T02:59:23.981813Z",
     "iopub.status.busy": "2024-02-03T02:59:23.981428Z",
     "iopub.status.idle": "2024-02-03T02:59:26.068008Z",
     "shell.execute_reply": "2024-02-03T02:59:26.066799Z"
    },
    "papermill": {
     "duration": 2.125378,
     "end_time": "2024-02-03T02:59:26.071631",
     "exception": false,
     "start_time": "2024-02-03T02:59:23.946253",
     "status": "completed"
    },
    "tags": []
   },
   "outputs": [
    {
     "data": {
      "image/png": "[encoded data removed]",
      "text/plain": [
       "<Figure size 607.875x500 with 6 Axes>"
      ]
     },
     "metadata": {},
     "output_type": "display_data"
    }
   ],
   "source": [
    "with sns.color_palette(\"colorblind\"):\n",
    "    sns.pairplot(df, hue=\"sex\", dropna=False)\n",
    "    plt.show()"
   ]
  },
  {
   "cell_type": "markdown",
   "id": "383e7ebe",
   "metadata": {
    "papermill": {
     "duration": 0.035207,
     "end_time": "2024-02-03T02:59:26.141907",
     "exception": false,
     "start_time": "2024-02-03T02:59:26.106700",
     "status": "completed"
    },
    "tags": []
   },
   "source": [
    "We can conclude from this graphic:\n",
    "\n",
    "- Women were in general younger than men.\n",
    "- It seems that there were more women travelling with high-cost fares than men.\n",
    "\n",
    "Finally, let's plot the pairplot again using the `pclass` variable to color the graphic."
   ]
  },
  {
   "cell_type": "code",
   "execution_count": 40,
   "id": "2182b54d",
   "metadata": {
    "execution": {
     "iopub.execute_input": "2024-02-03T02:59:26.214338Z",
     "iopub.status.busy": "2024-02-03T02:59:26.213924Z",
     "iopub.status.idle": "2024-02-03T02:59:28.340299Z",
     "shell.execute_reply": "2024-02-03T02:59:28.339291Z"
    },
    "papermill": {
     "duration": 2.165536,
     "end_time": "2024-02-03T02:59:28.342767",
     "exception": false,
     "start_time": "2024-02-03T02:59:26.177231",
     "status": "completed"
    },
    "tags": []
   },
   "outputs": [
    {
     "data": {
      "image/png": "[encoded data removed]",
      "text/plain": [
       "<Figure size 564.75x500 with 6 Axes>"
      ]
     },
     "metadata": {},
     "output_type": "display_data"
    }
   ],
   "source": [
    "with sns.color_palette(\"colorblind\"):\n",
    "    sns.pairplot(df, hue=\"pclass\", dropna=False)\n",
    "    plt.show()"
   ]
  },
  {
   "cell_type": "markdown",
   "id": "c8aed77f",
   "metadata": {
    "papermill": {
     "duration": 0.036519,
     "end_time": "2024-02-03T02:59:28.416317",
     "exception": false,
     "start_time": "2024-02-03T02:59:28.379798",
     "status": "completed"
    },
    "tags": []
   },
   "source": [
    "We can conclude from this graphic:\n",
    "\n",
    "- It's clear that high-cost fares correspond to people in first class.\n",
    "- There were more younger people travelling on third class.\n",
    "- Difference in fares between classes is huge.\n",
    "\n",
    "Now, let's plot the relationship between the classes vs. survivors."
   ]
  },
  {
   "cell_type": "code",
   "execution_count": 41,
   "id": "91ff05bd",
   "metadata": {
    "execution": {
     "iopub.execute_input": "2024-02-03T02:59:28.492147Z",
     "iopub.status.busy": "2024-02-03T02:59:28.491678Z",
     "iopub.status.idle": "2024-02-03T02:59:28.784080Z",
     "shell.execute_reply": "2024-02-03T02:59:28.782961Z"
    },
    "papermill": {
     "duration": 0.33336,
     "end_time": "2024-02-03T02:59:28.786677",
     "exception": false,
     "start_time": "2024-02-03T02:59:28.453317",
     "status": "completed"
    },
    "tags": []
   },
   "outputs": [
    {
     "data": {
      "image/png": "[encoded data removed]",
      "text/plain": [
       "<Figure size 640x480 with 1 Axes>"
      ]
     },
     "metadata": {},
     "output_type": "display_data"
    }
   ],
   "source": [
    "with sns.color_palette(\"colorblind\"):\n",
    "    sns.histplot(data=df, x=\"pclass\", hue=\"survived\", multiple=\"fill\")\n",
    "    sns.despine()\n",
    "    plt.show()"
   ]
  },
  {
   "cell_type": "markdown",
   "id": "6d219ba6",
   "metadata": {
    "papermill": {
     "duration": 0.036898,
     "end_time": "2024-02-03T02:59:28.860656",
     "exception": false,
     "start_time": "2024-02-03T02:59:28.823758",
     "status": "completed"
    },
    "tags": []
   },
   "source": [
    "- Although there were more people travelling on third class, only 20% of those people survived.\n",
    "- More than 60% of people travelling in first class survived.\n",
    "- Half of the people traveling in second class survived.\n",
    "\n",
    "Let's plot the relationship between the sex vs. survivors."
   ]
  },
  {
   "cell_type": "code",
   "execution_count": 42,
   "id": "2d042599",
   "metadata": {
    "execution": {
     "iopub.execute_input": "2024-02-03T02:59:28.940578Z",
     "iopub.status.busy": "2024-02-03T02:59:28.939840Z",
     "iopub.status.idle": "2024-02-03T02:59:29.217130Z",
     "shell.execute_reply": "2024-02-03T02:59:29.216264Z"
    },
    "papermill": {
     "duration": 0.32064,
     "end_time": "2024-02-03T02:59:29.219330",
     "exception": false,
     "start_time": "2024-02-03T02:59:28.898690",
     "status": "completed"
    },
    "tags": []
   },
   "outputs": [
    {
     "data": {
      "image/png": "[encoded data removed]",
      "text/plain": [
       "<Figure size 640x480 with 1 Axes>"
      ]
     },
     "metadata": {},
     "output_type": "display_data"
    }
   ],
   "source": [
    "with sns.color_palette(\"colorblind\"):\n",
    "    sns.histplot(data=df, x=\"sex\", hue=\"survived\", multiple=\"fill\")\n",
    "    sns.despine()\n",
    "    plt.show()"
   ]
  },
  {
   "cell_type": "markdown",
   "id": "4704739d",
   "metadata": {
    "papermill": {
     "duration": 0.036832,
     "end_time": "2024-02-03T02:59:29.293573",
     "exception": false,
     "start_time": "2024-02-03T02:59:29.256741",
     "status": "completed"
    },
    "tags": []
   },
   "source": [
    "- We can conclude based on the graphic that although there were more men travelling on the Titanic, only 20% of them survived.\n",
    "- Almost 80% of the women survived the shipwreck.\n",
    "\n",
    "Let's visualize the family relationships of the people."
   ]
  },
  {
   "cell_type": "code",
   "execution_count": 43,
   "id": "cb334881",
   "metadata": {
    "execution": {
     "iopub.execute_input": "2024-02-03T02:59:29.371361Z",
     "iopub.status.busy": "2024-02-03T02:59:29.370647Z",
     "iopub.status.idle": "2024-02-03T02:59:29.861096Z",
     "shell.execute_reply": "2024-02-03T02:59:29.860245Z"
    },
    "papermill": {
     "duration": 0.532042,
     "end_time": "2024-02-03T02:59:29.863300",
     "exception": false,
     "start_time": "2024-02-03T02:59:29.331258",
     "status": "completed"
    },
    "tags": []
   },
   "outputs": [
    {
     "data": {
      "image/png": "[encoded data removed]",
      "text/plain": [
       "<Figure size 640x480 with 1 Axes>"
      ]
     },
     "metadata": {},
     "output_type": "display_data"
    }
   ],
   "source": [
    "with sns.color_palette(\"colorblind\"):\n",
    "    sns.histplot(data=df, x=\"sibsp\", hue=\"sibsp\")\n",
    "    sns.despine()\n",
    "    plt.show()"
   ]
  },
  {
   "cell_type": "code",
   "execution_count": 44,
   "id": "125d0cd0",
   "metadata": {
    "execution": {
     "iopub.execute_input": "2024-02-03T02:59:29.942797Z",
     "iopub.status.busy": "2024-02-03T02:59:29.942101Z",
     "iopub.status.idle": "2024-02-03T02:59:30.496266Z",
     "shell.execute_reply": "2024-02-03T02:59:30.495102Z"
    },
    "papermill": {
     "duration": 0.597013,
     "end_time": "2024-02-03T02:59:30.498877",
     "exception": false,
     "start_time": "2024-02-03T02:59:29.901864",
     "status": "completed"
    },
    "tags": []
   },
   "outputs": [
    {
     "data": {
      "image/png": "[encoded data removed]",
      "text/plain": [
       "<Figure size 640x480 with 1 Axes>"
      ]
     },
     "metadata": {},
     "output_type": "display_data"
    }
   ],
   "source": [
    "with sns.color_palette(\"colorblind\"):\n",
    "    sns.histplot(data=df, x=\"parch\", hue=\"parch\")\n",
    "    sns.despine()\n",
    "    plt.show()"
   ]
  },
  {
   "cell_type": "markdown",
   "id": "ad02476c",
   "metadata": {
    "papermill": {
     "duration": 0.037924,
     "end_time": "2024-02-03T02:59:30.575101",
     "exception": false,
     "start_time": "2024-02-03T02:59:30.537177",
     "status": "completed"
    },
    "tags": []
   },
   "source": [
    "From both graphics, we can conclude that there were more people travelling without any family than people travelling with their family. This is something we concluded at the beginning of the analysis.\n",
    "\n",
    "Let's visualize the relationship betewwn sex vs. age vs. survivors using a boxplot."
   ]
  },
  {
   "cell_type": "code",
   "execution_count": 45,
   "id": "a945d538",
   "metadata": {
    "execution": {
     "iopub.execute_input": "2024-02-03T02:59:30.653480Z",
     "iopub.status.busy": "2024-02-03T02:59:30.652996Z",
     "iopub.status.idle": "2024-02-03T02:59:30.966314Z",
     "shell.execute_reply": "2024-02-03T02:59:30.965323Z"
    },
    "papermill": {
     "duration": 0.356201,
     "end_time": "2024-02-03T02:59:30.969694",
     "exception": false,
     "start_time": "2024-02-03T02:59:30.613493",
     "status": "completed"
    },
    "tags": []
   },
   "outputs": [
    {
     "data": {
      "image/png": "[encoded data removed]",
      "text/plain": [
       "<Figure size 640x480 with 1 Axes>"
      ]
     },
     "metadata": {},
     "output_type": "display_data"
    }
   ],
   "source": [
    "with sns.color_palette(\"colorblind\"):\n",
    "    sns.boxplot(data=df, x=\"sex\", y=\"age\", hue=\"survived\")\n",
    "    sns.despine()\n",
    "    plt.show()"
   ]
  },
  {
   "cell_type": "markdown",
   "id": "8c30c330",
   "metadata": {
    "papermill": {
     "duration": 0.040897,
     "end_time": "2024-02-03T02:59:31.070395",
     "exception": false,
     "start_time": "2024-02-03T02:59:31.029498",
     "status": "completed"
    },
    "tags": []
   },
   "source": [
    "From this graphic, we can conclude:\n",
    "\n",
    "- There were more younger women that did not survived the shipwreck.\n",
    "- There were more older men that did not survived the shipwreck.\n",
    "- There are few atypical observations of older men that survived and that did not survived."
   ]
  }
 ],
 "metadata": {
  "kaggle": {
   "accelerator": "none",
   "dataSources": [
    {
     "databundleVersionId": 26502,
     "sourceId": 3136,
     "sourceType": "competition"
    }
   ],
   "dockerImageVersionId": 30635,
   "isGpuEnabled": false,
   "isInternetEnabled": true,
   "language": "python",
   "sourceType": "notebook"
  },
  "kernelspec": {
   "display_name": "Python 3",
   "language": "python",
   "name": "python3"
  },
  "language_info": {
   "codemirror_mode": {
    "name": "ipython",
    "version": 3
   },
   "file_extension": ".py",
   "mimetype": "text/x-python",
   "name": "python",
   "nbconvert_exporter": "python",
   "pygments_lexer": "ipython3",
   "version": "3.10.12"
  },
  "papermill": {
   "default_parameters": {},
   "duration": 23.033769,
   "end_time": "2024-02-03T02:59:31.831153",
   "environment_variables": {},
   "exception": null,
   "input_path": "__notebook__.ipynb",
   "output_path": "__notebook__.ipynb",
   "parameters": {},
   "start_time": "2024-02-03T02:59:08.797384",
   "version": "2.4.0"
  }
 },
 "nbformat": 4,
 "nbformat_minor": 5
}
